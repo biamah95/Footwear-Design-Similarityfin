{
  "nbformat": 4,
  "nbformat_minor": 0,
  "metadata": {
    "colab": {
      "provenance": [],
      "authorship_tag": "ABX9TyNwPlIREdj7QBJSaaFaw2sx",
      "include_colab_link": true
    },
    "kernelspec": {
      "name": "python3",
      "display_name": "Python 3"
    },
    "language_info": {
      "name": "python"
    }
  },
  "cells": [
    {
      "cell_type": "markdown",
      "metadata": {
        "id": "view-in-github",
        "colab_type": "text"
      },
      "source": [
        "<a href=\"https://colab.research.google.com/github/biamah95/Footwear-Design-Similarityfin/blob/main/FinalProjectIntrotoAI.ipynb\" target=\"_parent\"><img src=\"https://colab.research.google.com/assets/colab-badge.svg\" alt=\"Open In Colab\"/></a>"
      ]
    },
    {
      "cell_type": "code",
      "execution_count": null,
      "metadata": {
        "colab": {
          "base_uri": "https://localhost:8080/"
        },
        "id": "rff5C5SijgPs",
        "outputId": "d47f4dec-cd18-47f3-9e08-5bbf00ca16ad"
      },
      "outputs": [
        {
          "output_type": "stream",
          "name": "stdout",
          "text": [
            "Requirement already satisfied: tensorflow in /usr/local/lib/python3.10/dist-packages (2.17.1)\n",
            "Requirement already satisfied: absl-py>=1.0.0 in /usr/local/lib/python3.10/dist-packages (from tensorflow) (1.4.0)\n",
            "Requirement already satisfied: astunparse>=1.6.0 in /usr/local/lib/python3.10/dist-packages (from tensorflow) (1.6.3)\n",
            "Requirement already satisfied: flatbuffers>=24.3.25 in /usr/local/lib/python3.10/dist-packages (from tensorflow) (24.3.25)\n",
            "Requirement already satisfied: gast!=0.5.0,!=0.5.1,!=0.5.2,>=0.2.1 in /usr/local/lib/python3.10/dist-packages (from tensorflow) (0.6.0)\n",
            "Requirement already satisfied: google-pasta>=0.1.1 in /usr/local/lib/python3.10/dist-packages (from tensorflow) (0.2.0)\n",
            "Requirement already satisfied: h5py>=3.10.0 in /usr/local/lib/python3.10/dist-packages (from tensorflow) (3.12.1)\n",
            "Requirement already satisfied: libclang>=13.0.0 in /usr/local/lib/python3.10/dist-packages (from tensorflow) (18.1.1)\n",
            "Requirement already satisfied: ml-dtypes<0.5.0,>=0.3.1 in /usr/local/lib/python3.10/dist-packages (from tensorflow) (0.4.1)\n",
            "Requirement already satisfied: opt-einsum>=2.3.2 in /usr/local/lib/python3.10/dist-packages (from tensorflow) (3.4.0)\n",
            "Requirement already satisfied: packaging in /usr/local/lib/python3.10/dist-packages (from tensorflow) (24.2)\n",
            "Requirement already satisfied: protobuf!=4.21.0,!=4.21.1,!=4.21.2,!=4.21.3,!=4.21.4,!=4.21.5,<5.0.0dev,>=3.20.3 in /usr/local/lib/python3.10/dist-packages (from tensorflow) (4.25.5)\n",
            "Requirement already satisfied: requests<3,>=2.21.0 in /usr/local/lib/python3.10/dist-packages (from tensorflow) (2.32.3)\n",
            "Requirement already satisfied: setuptools in /usr/local/lib/python3.10/dist-packages (from tensorflow) (75.1.0)\n",
            "Requirement already satisfied: six>=1.12.0 in /usr/local/lib/python3.10/dist-packages (from tensorflow) (1.16.0)\n",
            "Requirement already satisfied: termcolor>=1.1.0 in /usr/local/lib/python3.10/dist-packages (from tensorflow) (2.5.0)\n",
            "Requirement already satisfied: typing-extensions>=3.6.6 in /usr/local/lib/python3.10/dist-packages (from tensorflow) (4.12.2)\n",
            "Requirement already satisfied: wrapt>=1.11.0 in /usr/local/lib/python3.10/dist-packages (from tensorflow) (1.16.0)\n",
            "Requirement already satisfied: grpcio<2.0,>=1.24.3 in /usr/local/lib/python3.10/dist-packages (from tensorflow) (1.68.0)\n",
            "Requirement already satisfied: tensorboard<2.18,>=2.17 in /usr/local/lib/python3.10/dist-packages (from tensorflow) (2.17.1)\n",
            "Requirement already satisfied: keras>=3.2.0 in /usr/local/lib/python3.10/dist-packages (from tensorflow) (3.5.0)\n",
            "Requirement already satisfied: tensorflow-io-gcs-filesystem>=0.23.1 in /usr/local/lib/python3.10/dist-packages (from tensorflow) (0.37.1)\n",
            "Requirement already satisfied: numpy<2.0.0,>=1.23.5 in /usr/local/lib/python3.10/dist-packages (from tensorflow) (1.26.4)\n",
            "Requirement already satisfied: wheel<1.0,>=0.23.0 in /usr/local/lib/python3.10/dist-packages (from astunparse>=1.6.0->tensorflow) (0.45.0)\n",
            "Requirement already satisfied: rich in /usr/local/lib/python3.10/dist-packages (from keras>=3.2.0->tensorflow) (13.9.4)\n",
            "Requirement already satisfied: namex in /usr/local/lib/python3.10/dist-packages (from keras>=3.2.0->tensorflow) (0.0.8)\n",
            "Requirement already satisfied: optree in /usr/local/lib/python3.10/dist-packages (from keras>=3.2.0->tensorflow) (0.13.1)\n",
            "Requirement already satisfied: charset-normalizer<4,>=2 in /usr/local/lib/python3.10/dist-packages (from requests<3,>=2.21.0->tensorflow) (3.4.0)\n",
            "Requirement already satisfied: idna<4,>=2.5 in /usr/local/lib/python3.10/dist-packages (from requests<3,>=2.21.0->tensorflow) (3.10)\n",
            "Requirement already satisfied: urllib3<3,>=1.21.1 in /usr/local/lib/python3.10/dist-packages (from requests<3,>=2.21.0->tensorflow) (2.2.3)\n",
            "Requirement already satisfied: certifi>=2017.4.17 in /usr/local/lib/python3.10/dist-packages (from requests<3,>=2.21.0->tensorflow) (2024.8.30)\n",
            "Requirement already satisfied: markdown>=2.6.8 in /usr/local/lib/python3.10/dist-packages (from tensorboard<2.18,>=2.17->tensorflow) (3.7)\n",
            "Requirement already satisfied: tensorboard-data-server<0.8.0,>=0.7.0 in /usr/local/lib/python3.10/dist-packages (from tensorboard<2.18,>=2.17->tensorflow) (0.7.2)\n",
            "Requirement already satisfied: werkzeug>=1.0.1 in /usr/local/lib/python3.10/dist-packages (from tensorboard<2.18,>=2.17->tensorflow) (3.1.3)\n",
            "Requirement already satisfied: MarkupSafe>=2.1.1 in /usr/local/lib/python3.10/dist-packages (from werkzeug>=1.0.1->tensorboard<2.18,>=2.17->tensorflow) (3.0.2)\n",
            "Requirement already satisfied: markdown-it-py>=2.2.0 in /usr/local/lib/python3.10/dist-packages (from rich->keras>=3.2.0->tensorflow) (3.0.0)\n",
            "Requirement already satisfied: pygments<3.0.0,>=2.13.0 in /usr/local/lib/python3.10/dist-packages (from rich->keras>=3.2.0->tensorflow) (2.18.0)\n",
            "Requirement already satisfied: mdurl~=0.1 in /usr/local/lib/python3.10/dist-packages (from markdown-it-py>=2.2.0->rich->keras>=3.2.0->tensorflow) (0.1.2)\n",
            "Requirement already satisfied: keras in /usr/local/lib/python3.10/dist-packages (3.5.0)\n",
            "Requirement already satisfied: absl-py in /usr/local/lib/python3.10/dist-packages (from keras) (1.4.0)\n",
            "Requirement already satisfied: numpy in /usr/local/lib/python3.10/dist-packages (from keras) (1.26.4)\n",
            "Requirement already satisfied: rich in /usr/local/lib/python3.10/dist-packages (from keras) (13.9.4)\n",
            "Requirement already satisfied: namex in /usr/local/lib/python3.10/dist-packages (from keras) (0.0.8)\n",
            "Requirement already satisfied: h5py in /usr/local/lib/python3.10/dist-packages (from keras) (3.12.1)\n",
            "Requirement already satisfied: optree in /usr/local/lib/python3.10/dist-packages (from keras) (0.13.1)\n",
            "Requirement already satisfied: ml-dtypes in /usr/local/lib/python3.10/dist-packages (from keras) (0.4.1)\n",
            "Requirement already satisfied: packaging in /usr/local/lib/python3.10/dist-packages (from keras) (24.2)\n",
            "Requirement already satisfied: typing-extensions>=4.5.0 in /usr/local/lib/python3.10/dist-packages (from optree->keras) (4.12.2)\n",
            "Requirement already satisfied: markdown-it-py>=2.2.0 in /usr/local/lib/python3.10/dist-packages (from rich->keras) (3.0.0)\n",
            "Requirement already satisfied: pygments<3.0.0,>=2.13.0 in /usr/local/lib/python3.10/dist-packages (from rich->keras) (2.18.0)\n",
            "Requirement already satisfied: mdurl~=0.1 in /usr/local/lib/python3.10/dist-packages (from markdown-it-py>=2.2.0->rich->keras) (0.1.2)\n",
            "Requirement already satisfied: opencv-python in /usr/local/lib/python3.10/dist-packages (4.10.0.84)\n",
            "Requirement already satisfied: numpy>=1.21.2 in /usr/local/lib/python3.10/dist-packages (from opencv-python) (1.26.4)\n",
            "Requirement already satisfied: scikit-learn in /usr/local/lib/python3.10/dist-packages (1.5.2)\n",
            "Requirement already satisfied: numpy>=1.19.5 in /usr/local/lib/python3.10/dist-packages (from scikit-learn) (1.26.4)\n",
            "Requirement already satisfied: scipy>=1.6.0 in /usr/local/lib/python3.10/dist-packages (from scikit-learn) (1.13.1)\n",
            "Requirement already satisfied: joblib>=1.2.0 in /usr/local/lib/python3.10/dist-packages (from scikit-learn) (1.4.2)\n",
            "Requirement already satisfied: threadpoolctl>=3.1.0 in /usr/local/lib/python3.10/dist-packages (from scikit-learn) (3.5.0)\n",
            "Requirement already satisfied: matplotlib in /usr/local/lib/python3.10/dist-packages (3.8.0)\n",
            "Requirement already satisfied: contourpy>=1.0.1 in /usr/local/lib/python3.10/dist-packages (from matplotlib) (1.3.1)\n",
            "Requirement already satisfied: cycler>=0.10 in /usr/local/lib/python3.10/dist-packages (from matplotlib) (0.12.1)\n",
            "Requirement already satisfied: fonttools>=4.22.0 in /usr/local/lib/python3.10/dist-packages (from matplotlib) (4.55.0)\n",
            "Requirement already satisfied: kiwisolver>=1.0.1 in /usr/local/lib/python3.10/dist-packages (from matplotlib) (1.4.7)\n",
            "Requirement already satisfied: numpy<2,>=1.21 in /usr/local/lib/python3.10/dist-packages (from matplotlib) (1.26.4)\n",
            "Requirement already satisfied: packaging>=20.0 in /usr/local/lib/python3.10/dist-packages (from matplotlib) (24.2)\n",
            "Requirement already satisfied: pillow>=6.2.0 in /usr/local/lib/python3.10/dist-packages (from matplotlib) (11.0.0)\n",
            "Requirement already satisfied: pyparsing>=2.3.1 in /usr/local/lib/python3.10/dist-packages (from matplotlib) (3.2.0)\n",
            "Requirement already satisfied: python-dateutil>=2.7 in /usr/local/lib/python3.10/dist-packages (from matplotlib) (2.8.2)\n",
            "Requirement already satisfied: six>=1.5 in /usr/local/lib/python3.10/dist-packages (from python-dateutil>=2.7->matplotlib) (1.16.0)\n"
          ]
        }
      ],
      "source": [
        "!pip install tensorflow\n",
        "!pip install keras\n",
        "!pip install opencv-python\n",
        "!pip install scikit-learn\n",
        "!pip install matplotlib\n"
      ]
    },
    {
      "cell_type": "code",
      "source": [
        "from google.colab import drive\n",
        "drive.mount('/content/drive')\n"
      ],
      "metadata": {
        "colab": {
          "base_uri": "https://localhost:8080/"
        },
        "id": "wRLtZcekl69S",
        "outputId": "8d2266ae-019a-4a28-b5ad-a4d5ba1e2b67"
      },
      "execution_count": null,
      "outputs": [
        {
          "output_type": "stream",
          "name": "stdout",
          "text": [
            "Mounted at /content/drive\n"
          ]
        }
      ]
    },
    {
      "cell_type": "code",
      "source": [
        "!ls /content/drive/My\\ Drive/PhotosforAIapplication\n"
      ],
      "metadata": {
        "colab": {
          "base_uri": "https://localhost:8080/"
        },
        "id": "rwKG_m6qmkUs",
        "outputId": "f27a2108-ee24-48f5-b9db-d93c067ad95f"
      },
      "execution_count": null,
      "outputs": [
        {
          "output_type": "stream",
          "name": "stdout",
          "text": [
            "IMG_6047.jpg  IMG_6050.jpg  IMG_6053.jpg  IMG_6056.WEBP  IMG_6059.WEBP\n",
            "IMG_6048.jpg  IMG_6051.jpg  IMG_6054.jpg  IMG_6057.AVIF  IMG_6060.JPG\n",
            "IMG_6049.jpg  IMG_6052.jpg  IMG_6055.jpg  IMG_6058.WEBP  IMG_6062.JPG\n"
          ]
        }
      ]
    },
    {
      "cell_type": "code",
      "source": [
        "# Set Google Drive folder where images are stored\n",
        "IMAGE_FOLDER = '/content/drive/My Drive/PhotosforAIapplication/'  # Adjust with your actual folder path\n",
        "\n",
        "def extract_features(image_path):\n",
        "    img = image.load_img(image_path, target_size=(224, 224))\n",
        "    img_array = image.img_to_array(img)\n",
        "    img_array = np.expand_dims(img_array, axis=0)\n",
        "    img_array = preprocess_input(img_array)\n",
        "    features = model.predict(img_array)\n",
        "    return features.flatten()\n"
      ],
      "metadata": {
        "id": "pNYWLYwomtj0"
      },
      "execution_count": null,
      "outputs": []
    },
    {
      "cell_type": "code",
      "source": [
        "dataset_path = '/content/drive/MyDrive/shoeTypeClassifierDataset'\n"
      ],
      "metadata": {
        "id": "IZtHau-jti8s"
      },
      "execution_count": null,
      "outputs": []
    },
    {
      "cell_type": "code",
      "source": [
        "import os\n",
        "import numpy as np\n",
        "from tensorflow.keras.preprocessing.image import ImageDataGenerator\n",
        "from tensorflow.keras.applications.mobilenet_v2 import preprocess_input\n",
        "from tensorflow.keras import layers, models\n"
      ],
      "metadata": {
        "id": "eVfOkVOYtrtF"
      },
      "execution_count": null,
      "outputs": []
    },
    {
      "cell_type": "code",
      "source": [
        "# ImageDataGenerator for training with rescaling and augmentation\n",
        "train_datagen = ImageDataGenerator(\n",
        "    rescale=1./255,  # Normalize pixel values between 0 and 1\n",
        "    rotation_range=40,\n",
        "    width_shift_range=0.2,\n",
        "    height_shift_range=0.2,\n",
        "    shear_range=0.2,\n",
        "    zoom_range=0.2,\n",
        "    horizontal_flip=True,\n",
        "    fill_mode='nearest'\n",
        ")\n",
        "\n",
        "# Flow images from the directory into the model\n",
        "train_generator = train_datagen.flow_from_directory(\n",
        "    dataset_path,  # Path to the dataset\n",
        "    target_size=(224, 224),  # Resize images to 224x224\n",
        "    batch_size=32,  # Batch size for each iteration\n",
        "    class_mode='categorical'  # Multi-class classification\n",
        ")\n"
      ],
      "metadata": {
        "colab": {
          "base_uri": "https://localhost:8080/"
        },
        "id": "Vu0MHWPatv53",
        "outputId": "ac67a6e6-4687-4747-9301-53538690b33f"
      },
      "execution_count": null,
      "outputs": [
        {
          "output_type": "stream",
          "name": "stdout",
          "text": [
            "Found 1793 images belonging to 2 classes.\n"
          ]
        }
      ]
    },
    {
      "cell_type": "code",
      "source": [
        "validation_datagen = ImageDataGenerator(rescale=1./255)\n",
        "\n",
        "validation_generator = validation_datagen.flow_from_directory(\n",
        "    dataset_path,  # Path to the dataset\n",
        "    target_size=(224, 224),  # Resize images\n",
        "    batch_size=32,\n",
        "    class_mode='categorical'  # Multi-class classification\n",
        ")\n"
      ],
      "metadata": {
        "colab": {
          "base_uri": "https://localhost:8080/"
        },
        "id": "A6sIbTwNtzvs",
        "outputId": "54dcbd70-9bc4-4cb9-fe60-e4397b0b460c"
      },
      "execution_count": null,
      "outputs": [
        {
          "output_type": "stream",
          "name": "stdout",
          "text": [
            "Found 1793 images belonging to 2 classes.\n"
          ]
        }
      ]
    },
    {
      "cell_type": "code",
      "source": [
        "from tensorflow.keras.applications import MobileNetV2\n",
        "\n",
        "base_model = MobileNetV2(weights='imagenet', include_top=False, input_shape=(224, 224, 3))\n",
        "base_model.trainable = False  # Freeze the base model layers\n"
      ],
      "metadata": {
        "colab": {
          "base_uri": "https://localhost:8080/"
        },
        "id": "yvLzWBjauJ1w",
        "outputId": "ff386933-b121-4038-dee9-1c15d539fd02"
      },
      "execution_count": null,
      "outputs": [
        {
          "output_type": "stream",
          "name": "stdout",
          "text": [
            "Downloading data from https://storage.googleapis.com/tensorflow/keras-applications/mobilenet_v2/mobilenet_v2_weights_tf_dim_ordering_tf_kernels_1.0_224_no_top.h5\n",
            "\u001b[1m9406464/9406464\u001b[0m \u001b[32m━━━━━━━━━━━━━━━━━━━━\u001b[0m\u001b[37m\u001b[0m \u001b[1m1s\u001b[0m 0us/step\n"
          ]
        }
      ]
    },
    {
      "cell_type": "code",
      "source": [
        "model = models.Sequential([\n",
        "    base_model,\n",
        "    layers.GlobalAveragePooling2D(),  # Global average pooling layer to reduce dimensionality\n",
        "    layers.Dense(512, activation='relu'),  # Fully connected layer\n",
        "    layers.Dense(len(train_generator.class_indices), activation='softmax')  # Output layer\n",
        "])\n"
      ],
      "metadata": {
        "id": "WckcNI0uuNAn"
      },
      "execution_count": null,
      "outputs": []
    },
    {
      "cell_type": "code",
      "source": [
        "model.compile(optimizer='adam', loss='categorical_crossentropy', metrics=['accuracy'])\n"
      ],
      "metadata": {
        "id": "caoeZaLPuPDF"
      },
      "execution_count": null,
      "outputs": []
    },
    {
      "cell_type": "code",
      "source": [
        "# Train the model\n",
        "history = model.fit(\n",
        "    train_generator,\n",
        "    epochs=10,  # You can adjust the number of epochs\n",
        "    validation_data=validation_generator\n",
        ")\n"
      ],
      "metadata": {
        "colab": {
          "base_uri": "https://localhost:8080/"
        },
        "id": "qyjj9TTmuRW_",
        "outputId": "20533c89-3020-4b4e-bbfa-bd55400b973e"
      },
      "execution_count": null,
      "outputs": [
        {
          "output_type": "stream",
          "name": "stdout",
          "text": [
            "Epoch 1/10\n",
            "\u001b[1m57/57\u001b[0m \u001b[32m━━━━━━━━━━━━━━━━━━━━\u001b[0m\u001b[37m\u001b[0m \u001b[1m271s\u001b[0m 5s/step - accuracy: 0.8734 - loss: 0.3049 - val_accuracy: 0.8979 - val_loss: 0.2753\n",
            "Epoch 2/10\n",
            "\u001b[1m57/57\u001b[0m \u001b[32m━━━━━━━━━━━━━━━━━━━━\u001b[0m\u001b[37m\u001b[0m \u001b[1m225s\u001b[0m 4s/step - accuracy: 0.8780 - loss: 0.2961 - val_accuracy: 0.9018 - val_loss: 0.2558\n",
            "Epoch 3/10\n",
            "\u001b[1m57/57\u001b[0m \u001b[32m━━━━━━━━━━━━━━━━━━━━\u001b[0m\u001b[37m\u001b[0m \u001b[1m303s\u001b[0m 5s/step - accuracy: 0.8786 - loss: 0.2839 - val_accuracy: 0.8271 - val_loss: 0.3973\n",
            "Epoch 4/10\n",
            "\u001b[1m57/57\u001b[0m \u001b[32m━━━━━━━━━━━━━━━━━━━━\u001b[0m\u001b[37m\u001b[0m \u001b[1m284s\u001b[0m 4s/step - accuracy: 0.8912 - loss: 0.2780 - val_accuracy: 0.8985 - val_loss: 0.2423\n",
            "Epoch 5/10\n",
            "\u001b[1m57/57\u001b[0m \u001b[32m━━━━━━━━━━━━━━━━━━━━\u001b[0m\u001b[37m\u001b[0m \u001b[1m260s\u001b[0m 4s/step - accuracy: 0.8912 - loss: 0.2557 - val_accuracy: 0.9035 - val_loss: 0.2335\n",
            "Epoch 6/10\n",
            "\u001b[1m57/57\u001b[0m \u001b[32m━━━━━━━━━━━━━━━━━━━━\u001b[0m\u001b[37m\u001b[0m \u001b[1m267s\u001b[0m 5s/step - accuracy: 0.8931 - loss: 0.2473 - val_accuracy: 0.9197 - val_loss: 0.2338\n",
            "Epoch 7/10\n",
            "\u001b[1m57/57\u001b[0m \u001b[32m━━━━━━━━━━━━━━━━━━━━\u001b[0m\u001b[37m\u001b[0m \u001b[1m281s\u001b[0m 4s/step - accuracy: 0.9074 - loss: 0.2479 - val_accuracy: 0.9130 - val_loss: 0.2063\n",
            "Epoch 8/10\n",
            "\u001b[1m57/57\u001b[0m \u001b[32m━━━━━━━━━━━━━━━━━━━━\u001b[0m\u001b[37m\u001b[0m \u001b[1m226s\u001b[0m 4s/step - accuracy: 0.9082 - loss: 0.2224 - val_accuracy: 0.9286 - val_loss: 0.1942\n",
            "Epoch 9/10\n",
            "\u001b[1m57/57\u001b[0m \u001b[32m━━━━━━━━━━━━━━━━━━━━\u001b[0m\u001b[37m\u001b[0m \u001b[1m267s\u001b[0m 5s/step - accuracy: 0.9154 - loss: 0.2113 - val_accuracy: 0.9169 - val_loss: 0.1864\n",
            "Epoch 10/10\n",
            "\u001b[1m57/57\u001b[0m \u001b[32m━━━━━━━━━━━━━━━━━━━━\u001b[0m\u001b[37m\u001b[0m \u001b[1m320s\u001b[0m 5s/step - accuracy: 0.9200 - loss: 0.2038 - val_accuracy: 0.9314 - val_loss: 0.1748\n"
          ]
        }
      ]
    },
    {
      "cell_type": "markdown",
      "source": [],
      "metadata": {
        "id": "6UmLcIijtoH8"
      }
    },
    {
      "cell_type": "code",
      "source": [
        "model.save('/content/drive/MyDrive/similarity_model.h5')  # Save the model to Google Drive\n"
      ],
      "metadata": {
        "colab": {
          "base_uri": "https://localhost:8080/"
        },
        "id": "biXsdmosLtTZ",
        "outputId": "c3fc4ab8-cdde-4bca-c86f-0ac0b972cd10"
      },
      "execution_count": null,
      "outputs": [
        {
          "output_type": "stream",
          "name": "stderr",
          "text": [
            "WARNING:absl:You are saving your model as an HDF5 file via `model.save()` or `keras.saving.save_model(model)`. This file format is considered legacy. We recommend using instead the native Keras format, e.g. `model.save('my_model.keras')` or `keras.saving.save_model(model, 'my_model.keras')`. \n"
          ]
        }
      ]
    },
    {
      "cell_type": "code",
      "source": [
        "from google.colab import drive\n",
        "drive.mount('/content/drive')\n",
        "\n",
        "# Path to the folder where the dataset is stored on Google Drive\n",
        "dataset_path = '/content/drive/MyDrive/shoeTypeClassifierDataset'  # Update this with the correct path to your Kaggle dataset\n"
      ],
      "metadata": {
        "colab": {
          "base_uri": "https://localhost:8080/"
        },
        "id": "jvt5u9-aMs0d",
        "outputId": "a7791db6-5471-4721-a1f6-33ffea296165"
      },
      "execution_count": null,
      "outputs": [
        {
          "output_type": "stream",
          "name": "stdout",
          "text": [
            "Drive already mounted at /content/drive; to attempt to forcibly remount, call drive.mount(\"/content/drive\", force_remount=True).\n"
          ]
        }
      ]
    },
    {
      "cell_type": "code",
      "source": [
        "from google.colab import drive\n",
        "import os\n",
        "\n",
        "# Mount Google Drive\n",
        "drive.mount('/content/drive')\n",
        "\n",
        "# Define the path to the testing dataset\n",
        "test_dataset_path = '/content/drive/MyDrive/PhotosforAIapplication'\n",
        "\n",
        "# Verify the folder structure\n",
        "print(\"Subfolders in the testing dataset:\")\n",
        "print(os.listdir(test_dataset_path))\n"
      ],
      "metadata": {
        "colab": {
          "base_uri": "https://localhost:8080/"
        },
        "id": "LcERddgbdvCz",
        "outputId": "55506a86-abd1-4b3e-b463-357578ac05a1"
      },
      "execution_count": null,
      "outputs": [
        {
          "output_type": "stream",
          "name": "stdout",
          "text": [
            "Drive already mounted at /content/drive; to attempt to forcibly remount, call drive.mount(\"/content/drive\", force_remount=True).\n",
            "Subfolders in the testing dataset:\n",
            "['OriginalDesignsNomad', 'OriginalDesignsHermes', 'SuspectedcopiedNomad', 'SuspectedcopiedHermes', 'DistinctDesigns']\n"
          ]
        }
      ]
    },
    {
      "cell_type": "code",
      "source": [
        "from tensorflow.keras.preprocessing.image import ImageDataGenerator\n",
        "\n",
        "# Test data generator (rescale images)\n",
        "test_datagen = ImageDataGenerator(rescale=1./255)\n",
        "\n",
        "# Define updated file paths\n",
        "test_generators = {\n",
        "    \"Original Designs\": test_datagen.flow_from_directory(\n",
        "        directory='/content/drive/MyDrive/PhotosforAIapplication/OriginalDesignsHermes/',\n",
        "        target_size=(224, 224),\n",
        "        batch_size=1,\n",
        "        class_mode=None,  # No labels since we are testing similarity\n",
        "        shuffle=False\n",
        "    ),\n",
        "    \"Suspected Copied Designs\": test_datagen.flow_from_directory(\n",
        "        directory='/content/drive/MyDrive/PhotosforAIapplication/SuspectedcopiedHermes/',\n",
        "        target_size=(224, 224),\n",
        "        batch_size=1,\n",
        "        class_mode=None,\n",
        "        shuffle=False\n",
        "    ),\n",
        "    \"Distinct Designs\": test_datagen.flow_from_directory(\n",
        "        directory='/content/drive/MyDrive/PhotosforAIapplication/DistinctDesigns/',\n",
        "        target_size=(224, 224),\n",
        "        batch_size=1,\n",
        "        class_mode=None,\n",
        "        shuffle=False\n",
        "    )\n",
        "}\n",
        "\n",
        "# Verify the setup\n",
        "for category, generator in test_generators.items():\n",
        "    print(f\"{category}: {generator.n} images loaded from {generator.directory}\")\n"
      ],
      "metadata": {
        "colab": {
          "base_uri": "https://localhost:8080/"
        },
        "id": "GOP9DzF8ex1-",
        "outputId": "9c898ae7-7085-4882-e3ee-779cadac3661"
      },
      "execution_count": null,
      "outputs": [
        {
          "output_type": "stream",
          "name": "stdout",
          "text": [
            "Found 0 images belonging to 0 classes.\n",
            "Found 0 images belonging to 0 classes.\n",
            "Found 0 images belonging to 0 classes.\n",
            "Original Designs: 0 images loaded from /content/drive/MyDrive/PhotosforAIapplication/OriginalDesignsHermes/\n",
            "Suspected Copied Designs: 0 images loaded from /content/drive/MyDrive/PhotosforAIapplication/SuspectedcopiedHermes/\n",
            "Distinct Designs: 0 images loaded from /content/drive/MyDrive/PhotosforAIapplication/DistinctDesigns/\n"
          ]
        }
      ]
    },
    {
      "cell_type": "code",
      "source": [
        "import os\n",
        "from tensorflow.keras.preprocessing.image import ImageDataGenerator\n",
        "\n",
        "# Define dataset paths\n",
        "dataset_paths = {\n",
        "    \"Original Designs\": '/content/drive/MyDrive/PhotosforAIapplication/OriginalDesignsHermes/',\n",
        "    \"Suspected Copied Designs\": '/content/drive/MyDrive/PhotosforAIapplication/SuspectedcopiedHermes/',\n",
        "    \"Distinct Designs\": '/content/drive/MyDrive/PhotosforAIapplication/DistinctDesigns/'\n",
        "}\n",
        "\n",
        "# Check directory contents before loading\n",
        "for category, path in dataset_paths.items():\n",
        "    print(f\"Checking {category} at {path}\")\n",
        "    if not os.path.exists(path):\n",
        "        print(f\"Path does not exist: {path}\")\n",
        "    elif len(os.listdir(path)) == 0:\n",
        "        print(f\"Directory is empty: {path}\")\n",
        "    else:\n",
        "        print(f\"Directory is valid with {len(os.listdir(path))} files.\")\n",
        "\n",
        "# Test data generator\n",
        "test_datagen = ImageDataGenerator(rescale=1./255)\n",
        "\n",
        "# Load images\n",
        "test_generators = {}\n",
        "for category, path in dataset_paths.items():\n",
        "    test_generators[category] = test_datagen.flow_from_directory(\n",
        "        directory=path,\n",
        "        target_size=(224, 224),\n",
        "        batch_size=1,\n",
        "        class_mode=None,\n",
        "        shuffle=False\n",
        "    )\n",
        "\n",
        "# Verify loaded data\n",
        "for category, generator in test_generators.items():\n",
        "    print(f\"{category}: {generator.n} images loaded from {generator.directory}\")\n"
      ],
      "metadata": {
        "colab": {
          "base_uri": "https://localhost:8080/"
        },
        "id": "1g9Fctyefk_u",
        "outputId": "b2bd7f07-6172-46bf-fe23-9a5c40e0c3f7"
      },
      "execution_count": null,
      "outputs": [
        {
          "output_type": "stream",
          "name": "stdout",
          "text": [
            "Checking Original Designs at /content/drive/MyDrive/PhotosforAIapplication/OriginalDesignsHermes/\n",
            "Directory is valid with 22 files.\n",
            "Checking Suspected Copied Designs at /content/drive/MyDrive/PhotosforAIapplication/SuspectedcopiedHermes/\n",
            "Directory is valid with 9 files.\n",
            "Checking Distinct Designs at /content/drive/MyDrive/PhotosforAIapplication/DistinctDesigns/\n",
            "Directory is valid with 22 files.\n",
            "Found 0 images belonging to 0 classes.\n",
            "Found 0 images belonging to 0 classes.\n",
            "Found 0 images belonging to 0 classes.\n",
            "Original Designs: 0 images loaded from /content/drive/MyDrive/PhotosforAIapplication/OriginalDesignsHermes/\n",
            "Suspected Copied Designs: 0 images loaded from /content/drive/MyDrive/PhotosforAIapplication/SuspectedcopiedHermes/\n",
            "Distinct Designs: 0 images loaded from /content/drive/MyDrive/PhotosforAIapplication/DistinctDesigns/\n"
          ]
        }
      ]
    },
    {
      "cell_type": "code",
      "source": [
        "import os\n",
        "\n",
        "# Check the contents of each directory\n",
        "directories = [\n",
        "    '/content/drive/MyDrive/PhotosforAIapplication/OriginalDesignsHermes/',\n",
        "    '/content/drive/MyDrive/PhotosforAIapplication/SuspectedcopiedHermes/',\n",
        "    '/content/drive/MyDrive/PhotosforAIapplication/DistinctDesigns/'\n",
        "]\n",
        "\n",
        "for directory in directories:\n",
        "    print(f\"Files in {directory}:\")\n",
        "    print(os.listdir(directory))\n"
      ],
      "metadata": {
        "colab": {
          "base_uri": "https://localhost:8080/"
        },
        "id": "p7rMH4ncfrpP",
        "outputId": "d7a64738-c353-4e65-db0e-e27f9e85da6b"
      },
      "execution_count": null,
      "outputs": [
        {
          "output_type": "stream",
          "name": "stdout",
          "text": [
            "Files in /content/drive/MyDrive/PhotosforAIapplication/OriginalDesignsHermes/:\n",
            "['IMG_6062.JPG', 'IMG_6126.PNG', 'IMG_6125.jpg', 'IMG_6140.PNG', 'IMG_6144.PNG', 'IMG_6137.PNG', 'IMG_6143.PNG', 'IMG_6145.PNG', 'IMG_6142.PNG', 'IMG_6141.PNG', 'IMG_6136.PNG', 'IMG_6139.PNG', 'IMG_6130.PNG', 'IMG_6132.PNG', 'IMG_6133.PNG', 'IMG_6135.PNG', 'IMG_6138.PNG', 'IMG_6134.PNG', 'IMG_6129.PNG', 'IMG_6131.PNG', 'IMG_6127.PNG', 'IMG_6128.PNG']\n",
            "Files in /content/drive/MyDrive/PhotosforAIapplication/SuspectedcopiedHermes/:\n",
            "['IMG_6148.JPG', 'IMG_6155.jpg', 'IMG_6154.jpg', 'IMG_6150.JPG', 'IMG_6161.JPG', 'IMG_6162.JPG', 'IMG_6158.JPG', 'IMG_6157.JPG', 'IMG_6149.PNG']\n",
            "Files in /content/drive/MyDrive/PhotosforAIapplication/DistinctDesigns/:\n",
            "['IMG_6164.JPG', 'IMG_6189.JPG', 'IMG_6185.jpg', 'IMG_6178.JPG', 'IMG_6183.JPG', 'IMG_6182.JPG', 'IMG_6184.JPG', 'IMG_6180.JPG', 'IMG_6179.JPG', 'IMG_6166.JPG', 'IMG_6172.JPG', 'IMG_6170.JPG', 'IMG_6164 2.JPG', 'IMG_6203.JPG', 'IMG_6201.JPG', 'IMG_6207.JPG', 'IMG_6206.JPG', 'IMG_6205.JPG', 'IMG_6204.JPG', 'IMG_6188.JPG', 'IMG_6197.JPG', 'IMG_6190.JPG']\n"
          ]
        }
      ]
    },
    {
      "cell_type": "code",
      "source": [
        "from google.colab import drive\n",
        "\n",
        "# Mount Google Drive\n",
        "drive.mount('/content/drive')\n",
        "\n",
        "# Define the dataset path\n",
        "dataset_path = '/content/drive/MyDrive/PhotosforAIapplication/'\n"
      ],
      "metadata": {
        "colab": {
          "base_uri": "https://localhost:8080/"
        },
        "id": "Tzwiv-0vgzQg",
        "outputId": "3dc71207-003c-4ee2-dba0-1d24bfb9a319"
      },
      "execution_count": null,
      "outputs": [
        {
          "output_type": "stream",
          "name": "stdout",
          "text": [
            "Drive already mounted at /content/drive; to attempt to forcibly remount, call drive.mount(\"/content/drive\", force_remount=True).\n"
          ]
        }
      ]
    },
    {
      "cell_type": "code",
      "source": [
        "import os\n",
        "\n",
        "# List files in each directory\n",
        "categories = [\"OriginalDesignsHermes\", \"SuspectedcopiedHermes\", \"DistinctDesigns\"]\n",
        "for category in categories:\n",
        "    folder_path = os.path.join(dataset_path, category)\n",
        "    print(f\"Files in {category}:\")\n",
        "    print(os.listdir(folder_path))\n"
      ],
      "metadata": {
        "colab": {
          "base_uri": "https://localhost:8080/"
        },
        "id": "b06cZBGhhptZ",
        "outputId": "6185e766-f149-4493-a7a1-5521c1f95705"
      },
      "execution_count": null,
      "outputs": [
        {
          "output_type": "stream",
          "name": "stdout",
          "text": [
            "Files in OriginalDesignsHermes:\n",
            "['IMG_6062.JPG', 'IMG_6126.PNG', 'IMG_6125.jpg', 'IMG_6140.PNG', 'IMG_6144.PNG', 'IMG_6137.PNG', 'IMG_6143.PNG', 'IMG_6145.PNG', 'IMG_6142.PNG', 'IMG_6141.PNG', 'IMG_6136.PNG', 'IMG_6139.PNG', 'IMG_6130.PNG', 'IMG_6132.PNG', 'IMG_6133.PNG', 'IMG_6135.PNG', 'IMG_6138.PNG', 'IMG_6134.PNG', 'IMG_6129.PNG', 'IMG_6131.PNG', 'IMG_6127.PNG', 'IMG_6128.PNG']\n",
            "Files in SuspectedcopiedHermes:\n",
            "['IMG_6148.JPG', 'IMG_6155.jpg', 'IMG_6154.jpg', 'IMG_6150.JPG', 'IMG_6161.JPG', 'IMG_6162.JPG', 'IMG_6158.JPG', 'IMG_6157.JPG', 'IMG_6149.PNG']\n",
            "Files in DistinctDesigns:\n",
            "['IMG_6164.JPG', 'IMG_6189.JPG', 'IMG_6185.jpg', 'IMG_6178.JPG', 'IMG_6183.JPG', 'IMG_6182.JPG', 'IMG_6184.JPG', 'IMG_6180.JPG', 'IMG_6179.JPG', 'IMG_6166.JPG', 'IMG_6172.JPG', 'IMG_6170.JPG', 'IMG_6164 2.JPG', 'IMG_6203.JPG', 'IMG_6201.JPG', 'IMG_6207.JPG', 'IMG_6206.JPG', 'IMG_6205.JPG', 'IMG_6204.JPG', 'IMG_6188.JPG', 'IMG_6197.JPG', 'IMG_6190.JPG']\n"
          ]
        }
      ]
    },
    {
      "cell_type": "code",
      "source": [
        "from tensorflow.keras.preprocessing.image import ImageDataGenerator\n",
        "\n",
        "# Preprocessing (resizing and augmentation)\n",
        "datagen = ImageDataGenerator(\n",
        "    rescale=1./255,\n",
        "    rotation_range=30,\n",
        "    width_shift_range=0.2,\n",
        "    height_shift_range=0.2,\n",
        "    shear_range=0.2,\n",
        "    zoom_range=0.2,\n",
        "    horizontal_flip=True,\n",
        "    fill_mode='nearest'\n",
        ")\n",
        "\n",
        "# Load images from each category\n",
        "image_generators = {\n",
        "    \"Original Designs\": datagen.flow_from_directory(\n",
        "        dataset_path + 'OriginalDesignsHermes/',\n",
        "        target_size=(224, 224),\n",
        "        batch_size=32,\n",
        "        class_mode=None,\n",
        "        shuffle=True\n",
        "    ),\n",
        "    \"Suspected Copied Designs\": datagen.flow_from_directory(\n",
        "        dataset_path + 'SuspectedcopiedHermes/',\n",
        "        target_size=(224, 224),\n",
        "        batch_size=32,\n",
        "        class_mode=None,\n",
        "        shuffle=True\n",
        "    ),\n",
        "    \"Distinct Designs\": datagen.flow_from_directory(\n",
        "        dataset_path + 'DistinctDesigns/',\n",
        "        target_size=(224, 224),\n",
        "        batch_size=32,\n",
        "        class_mode=None,\n",
        "        shuffle=True\n",
        "    )\n",
        "}\n"
      ],
      "metadata": {
        "colab": {
          "base_uri": "https://localhost:8080/"
        },
        "id": "6IokBj-FhrfP",
        "outputId": "68c6d82a-4f24-4773-9811-e99cf874cb21"
      },
      "execution_count": null,
      "outputs": [
        {
          "output_type": "stream",
          "name": "stdout",
          "text": [
            "Found 0 images belonging to 0 classes.\n",
            "Found 0 images belonging to 0 classes.\n",
            "Found 0 images belonging to 0 classes.\n"
          ]
        }
      ]
    },
    {
      "cell_type": "code",
      "source": [
        "from tensorflow.keras.applications import MobileNet\n",
        "from tensorflow.keras.models import Model\n",
        "from tensorflow.keras.layers import GlobalAveragePooling2D, Dense\n",
        "\n",
        "# Load MobileNet as a base model\n",
        "base_model = MobileNet(weights='imagenet', include_top=False, input_shape=(224, 224, 3))\n",
        "\n",
        "# Add custom layers for classification\n",
        "x = base_model.output\n",
        "x = GlobalAveragePooling2D()(x)\n",
        "x = Dense(128, activation='relu')(x)\n",
        "predictions = Dense(3, activation='softmax')(x)  # 3 categories: Original, Copied, Distinct\n",
        "\n",
        "# Create the model\n",
        "model = Model(inputs=base_model.input, outputs=predictions)\n",
        "\n",
        "# Freeze the base model layers\n",
        "for layer in base_model.layers:\n",
        "    layer.trainable = False\n",
        "\n",
        "# Compile the model\n",
        "model.compile(optimizer='adam', loss='categorical_crossentropy', metrics=['accuracy'])\n"
      ],
      "metadata": {
        "colab": {
          "base_uri": "https://localhost:8080/"
        },
        "id": "UU_mzHouhuXW",
        "outputId": "7f2c010c-f1f6-4a20-d73d-533ceec448d2"
      },
      "execution_count": null,
      "outputs": [
        {
          "output_type": "stream",
          "name": "stdout",
          "text": [
            "Downloading data from https://storage.googleapis.com/tensorflow/keras-applications/mobilenet/mobilenet_1_0_224_tf_no_top.h5\n",
            "\u001b[1m17225924/17225924\u001b[0m \u001b[32m━━━━━━━━━━━━━━━━━━━━\u001b[0m\u001b[37m\u001b[0m \u001b[1m1s\u001b[0m 0us/step\n"
          ]
        }
      ]
    },
    {
      "source": [
        "from tensorflow.keras.preprocessing.image import ImageDataGenerator\n",
        "\n",
        "# Preprocessing (resizing and augmentation)\n",
        "datagen = ImageDataGenerator(\n",
        "    rescale=1./255,\n",
        "    rotation_range=30,\n",
        "    width_shift_range=0.2,\n",
        "    height_shift_range=0.2,\n",
        "    shear_range=0.2,\n",
        "    zoom_range=0.2,\n",
        "    horizontal_flip=True,\n",
        "    fill_mode='nearest'\n",
        ")\n",
        "\n",
        "# Load"
      ],
      "cell_type": "code",
      "metadata": {
        "id": "XLNDEPgIh25w"
      },
      "execution_count": null,
      "outputs": []
    },
    {
      "source": [
        "import numpy as np\n",
        "from tensorflow.keras.preprocessing import image\n",
        "import os # Import os module\n",
        "\n",
        "def predict_image_category(img_path):\n",
        "    # Print the absolute path\n",
        "    # print(\"Absolute Path:\", os.path.abspath(img_path))\n",
        "    # Print directory contents\n",
        "    # print(\"Directory Contents:\", os.listdir(os.path.dirname(img_path)))\n",
        "    img = image.load_img(img_path, target_size=(224, 224))\n",
        "    img_array = image.img_to_array(img) / 255.0\n",
        "    img_array = np.expand_dims(img_array, axis=0)\n",
        "    prediction = model.predict(img_array)\n",
        "    categories = [\"Original Designs\", \"Suspected Copied Designs\", \"Distinct Designs\"]\n",
        "    return categories[np.argmax(prediction)]\n",
        "\n",
        "# Test with your 15 images\n",
        "test_images = [\n",
        "    '/content/drive/MyDrive/PhotosforAIapplication/OriginalDesignsHermes/IMG_6062.JPG',\n",
        "    '/content/drive/MyDrive/PhotosforAIapplication/SuspectedcopiedHermes/IMG_6148.JPG'\n",
        "]\n",
        "\n",
        "for img_path in test_images:\n",
        "    print(f\"Image: {img_path} -> Predicted Category: {predict_image_category(img_path)}\")"
      ],
      "cell_type": "code",
      "metadata": {
        "colab": {
          "base_uri": "https://localhost:8080/"
        },
        "id": "myoe2ZMMk47M",
        "outputId": "b76c3935-a59b-43ba-bb3d-eaaa8ac77d8c"
      },
      "execution_count": null,
      "outputs": [
        {
          "output_type": "stream",
          "name": "stdout",
          "text": [
            "\u001b[1m1/1\u001b[0m \u001b[32m━━━━━━━━━━━━━━━━━━━━\u001b[0m\u001b[37m\u001b[0m \u001b[1m1s\u001b[0m 1s/step\n",
            "Image: /content/drive/MyDrive/PhotosforAIapplication/OriginalDesignsHermes/IMG_6062.JPG -> Predicted Category: Original Designs\n",
            "\u001b[1m1/1\u001b[0m \u001b[32m━━━━━━━━━━━━━━━━━━━━\u001b[0m\u001b[37m\u001b[0m \u001b[1m0s\u001b[0m 65ms/step\n",
            "Image: /content/drive/MyDrive/PhotosforAIapplication/SuspectedcopiedHermes/IMG_6148.JPG -> Predicted Category: Suspected Copied Designs\n"
          ]
        }
      ]
    },
    {
      "cell_type": "code",
      "source": [
        "# Save the trained model\n",
        "model.save('/content/drive/MyDrive/PhotosforAIapplication/my_model.h5')\n",
        "print(\"Model saved successfully!\")\n"
      ],
      "metadata": {
        "colab": {
          "base_uri": "https://localhost:8080/"
        },
        "id": "kdsQbkaZssD9",
        "outputId": "35166207-eac9-4cc8-8561-906c414fb0b0"
      },
      "execution_count": null,
      "outputs": [
        {
          "output_type": "stream",
          "name": "stderr",
          "text": [
            "WARNING:absl:You are saving your model as an HDF5 file via `model.save()` or `keras.saving.save_model(model)`. This file format is considered legacy. We recommend using instead the native Keras format, e.g. `model.save('my_model.keras')` or `keras.saving.save_model(model, 'my_model.keras')`. \n"
          ]
        },
        {
          "output_type": "stream",
          "name": "stdout",
          "text": [
            "Model saved successfully!\n"
          ]
        }
      ]
    },
    {
      "cell_type": "code",
      "source": [
        "import os\n",
        "# Check for saved model\n",
        "if 'my_model.h5' in os.listdir('/content/drive/MyDrive/PhotosforAIapplication/'):\n",
        "    print(\"Model file exists.\")\n",
        "else:\n",
        "    print(\"Model file not found.\")\n"
      ],
      "metadata": {
        "colab": {
          "base_uri": "https://localhost:8080/"
        },
        "id": "CqS8QdwJsvJY",
        "outputId": "4ed7fe87-35b2-4c24-ac3a-f10cd36af675"
      },
      "execution_count": null,
      "outputs": [
        {
          "output_type": "stream",
          "name": "stdout",
          "text": [
            "Model file exists.\n"
          ]
        }
      ]
    },
    {
      "cell_type": "code",
      "source": [
        "import numpy as np\n",
        "from tensorflow.keras.preprocessing import image\n",
        "import os # Import os module\n",
        "\n",
        "def predict_image_category(img_path):\n",
        "    # Print the absolute path\n",
        "    # print(\"Absolute Path:\", os.path.abspath(img_path))\n",
        "    # Print directory contents\n",
        "    # print(\"Directory Contents:\", os.listdir(os.path.dirname(img_path)))\n",
        "    img = image.load_img(img_path, target_size=(224, 224))\n",
        "    img_array = image.img_to_array(img) / 255.0\n",
        "    img_array = np.expand_dims(img_array, axis=0)\n",
        "    prediction = model.predict(img_array)\n",
        "    categories = [\"Original Designs\", \"Suspected Copied Designs\", \"Distinct Designs\"]\n",
        "    return categories[np.argmax(prediction)]\n",
        "\n",
        "# Test with your 15 images\n",
        "test_images = [\n",
        "    '/content/drive/MyDrive/PhotosforAIapplication/OriginalDesignsHermes/IMG_6062.JPG',\n",
        "    '/content/drive/MyDrive/PhotosforAIapplication/DistinctDesigns/IMG_6164.JPG', # Added comma here\n",
        "    '/content/drive/MyDrive/PhotosforAIapplication/DistinctDesigns/IMG_6178.JPG', # Added comma here\n",
        "    '/content/drive/MyDrive/PhotosforAIapplication/OriginalDesignsHermes/IMG_6129.PNG', # Added comma here\n",
        "    '/content/drive/MyDrive/PhotosforAIapplication/SuspectedcopiedHermes/IMG_6162.JPG', # Added comma here\n",
        "    '/content/drive/MyDrive/PhotosforAIapplication/SuspectedcopiedHermes/IMG_6154.jpg', # Added comma here\n",
        "    '/content/drive/MyDrive/PhotosforAIapplication/SuspectedcopiedHermes/IMG_6150.JPG', # Added comma here\n",
        "    '/content/drive/MyDrive/PhotosforAIapplication/OriginalDesignsHermes/IMG_6133.PNG', # Added comma here\n",
        "    '/content/drive/MyDrive/PhotosforAIapplication/OriginalDesignsHermes/IMG_6139.PNG', # Added comma here\n",
        "    '/content/drive/MyDrive/PhotosforAIapplication/OriginalDesignsHermes/IMG_6142.PNG', # Added comma here\n",
        "    '/content/drive/MyDrive/PhotosforAIapplication/OriginalDesignsHermes/IMG_6144.PNG', # Added comma here\n",
        "    '/content/drive/MyDrive/PhotosforAIapplication/OriginalDesignsHermes/IMG_6136.PNG', # Added comma here\n",
        "    '/content/drive/MyDrive/PhotosforAIapplication/DistinctDesigns/IMG_6170.JPG', # Added comma here\n",
        "    '/content/drive/MyDrive/PhotosforAIapplication/DistinctDesigns/IMG_6188.JPG', # Added comma here\n",
        "    '/content/drive/MyDrive/PhotosforAIapplication/SuspectedcopiedHermes/IMG_6148.JPG', # Added comma here\n",
        "    '/content/drive/MyDrive/PhotosforAIapplication/SuspectedcopiedHermes/IMG_6155.jpg' # Added comma here\n",
        "]\n",
        "\n",
        "for img_path in test_images:\n",
        "    print(f\"Image: {img_path} -> Predicted Category: {predict_image_category(img_path)}\")"
      ],
      "metadata": {
        "colab": {
          "base_uri": "https://localhost:8080/"
        },
        "id": "sWqIx3qtnBcL",
        "outputId": "3030fb7f-35ea-46da-a898-08e3f9cbf874"
      },
      "execution_count": null,
      "outputs": [
        {
          "output_type": "stream",
          "name": "stdout",
          "text": [
            "\u001b[1m1/1\u001b[0m \u001b[32m━━━━━━━━━━━━━━━━━━━━\u001b[0m\u001b[37m\u001b[0m \u001b[1m0s\u001b[0m 59ms/step\n",
            "Image: /content/drive/MyDrive/PhotosforAIapplication/OriginalDesignsHermes/IMG_6062.JPG -> Predicted Category: Original Designs\n",
            "\u001b[1m1/1\u001b[0m \u001b[32m━━━━━━━━━━━━━━━━━━━━\u001b[0m\u001b[37m\u001b[0m \u001b[1m0s\u001b[0m 55ms/step\n",
            "Image: /content/drive/MyDrive/PhotosforAIapplication/DistinctDesigns/IMG_6164.JPG -> Predicted Category: Original Designs\n",
            "\u001b[1m1/1\u001b[0m \u001b[32m━━━━━━━━━━━━━━━━━━━━\u001b[0m\u001b[37m\u001b[0m \u001b[1m0s\u001b[0m 55ms/step\n",
            "Image: /content/drive/MyDrive/PhotosforAIapplication/DistinctDesigns/IMG_6178.JPG -> Predicted Category: Original Designs\n",
            "\u001b[1m1/1\u001b[0m \u001b[32m━━━━━━━━━━━━━━━━━━━━\u001b[0m\u001b[37m\u001b[0m \u001b[1m0s\u001b[0m 54ms/step\n",
            "Image: /content/drive/MyDrive/PhotosforAIapplication/OriginalDesignsHermes/IMG_6129.PNG -> Predicted Category: Original Designs\n",
            "\u001b[1m1/1\u001b[0m \u001b[32m━━━━━━━━━━━━━━━━━━━━\u001b[0m\u001b[37m\u001b[0m \u001b[1m0s\u001b[0m 55ms/step\n",
            "Image: /content/drive/MyDrive/PhotosforAIapplication/SuspectedcopiedHermes/IMG_6162.JPG -> Predicted Category: Suspected Copied Designs\n",
            "\u001b[1m1/1\u001b[0m \u001b[32m━━━━━━━━━━━━━━━━━━━━\u001b[0m\u001b[37m\u001b[0m \u001b[1m0s\u001b[0m 93ms/step\n",
            "Image: /content/drive/MyDrive/PhotosforAIapplication/SuspectedcopiedHermes/IMG_6154.jpg -> Predicted Category: Original Designs\n",
            "\u001b[1m1/1\u001b[0m \u001b[32m━━━━━━━━━━━━━━━━━━━━\u001b[0m\u001b[37m\u001b[0m \u001b[1m0s\u001b[0m 90ms/step\n",
            "Image: /content/drive/MyDrive/PhotosforAIapplication/SuspectedcopiedHermes/IMG_6150.JPG -> Predicted Category: Original Designs\n",
            "\u001b[1m1/1\u001b[0m \u001b[32m━━━━━━━━━━━━━━━━━━━━\u001b[0m\u001b[37m\u001b[0m \u001b[1m0s\u001b[0m 160ms/step\n",
            "Image: /content/drive/MyDrive/PhotosforAIapplication/OriginalDesignsHermes/IMG_6133.PNG -> Predicted Category: Original Designs\n",
            "\u001b[1m1/1\u001b[0m \u001b[32m━━━━━━━━━━━━━━━━━━━━\u001b[0m\u001b[37m\u001b[0m \u001b[1m0s\u001b[0m 93ms/step\n",
            "Image: /content/drive/MyDrive/PhotosforAIapplication/OriginalDesignsHermes/IMG_6139.PNG -> Predicted Category: Suspected Copied Designs\n",
            "\u001b[1m1/1\u001b[0m \u001b[32m━━━━━━━━━━━━━━━━━━━━\u001b[0m\u001b[37m\u001b[0m \u001b[1m0s\u001b[0m 115ms/step\n",
            "Image: /content/drive/MyDrive/PhotosforAIapplication/OriginalDesignsHermes/IMG_6142.PNG -> Predicted Category: Suspected Copied Designs\n",
            "\u001b[1m1/1\u001b[0m \u001b[32m━━━━━━━━━━━━━━━━━━━━\u001b[0m\u001b[37m\u001b[0m \u001b[1m0s\u001b[0m 62ms/step\n",
            "Image: /content/drive/MyDrive/PhotosforAIapplication/OriginalDesignsHermes/IMG_6144.PNG -> Predicted Category: Original Designs\n",
            "\u001b[1m1/1\u001b[0m \u001b[32m━━━━━━━━━━━━━━━━━━━━\u001b[0m\u001b[37m\u001b[0m \u001b[1m0s\u001b[0m 56ms/step\n",
            "Image: /content/drive/MyDrive/PhotosforAIapplication/OriginalDesignsHermes/IMG_6136.PNG -> Predicted Category: Suspected Copied Designs\n",
            "\u001b[1m1/1\u001b[0m \u001b[32m━━━━━━━━━━━━━━━━━━━━\u001b[0m\u001b[37m\u001b[0m \u001b[1m0s\u001b[0m 55ms/step\n",
            "Image: /content/drive/MyDrive/PhotosforAIapplication/DistinctDesigns/IMG_6170.JPG -> Predicted Category: Original Designs\n",
            "\u001b[1m1/1\u001b[0m \u001b[32m━━━━━━━━━━━━━━━━━━━━\u001b[0m\u001b[37m\u001b[0m \u001b[1m0s\u001b[0m 57ms/step\n",
            "Image: /content/drive/MyDrive/PhotosforAIapplication/DistinctDesigns/IMG_6188.JPG -> Predicted Category: Original Designs\n",
            "\u001b[1m1/1\u001b[0m \u001b[32m━━━━━━━━━━━━━━━━━━━━\u001b[0m\u001b[37m\u001b[0m \u001b[1m0s\u001b[0m 64ms/step\n",
            "Image: /content/drive/MyDrive/PhotosforAIapplication/SuspectedcopiedHermes/IMG_6148.JPG -> Predicted Category: Suspected Copied Designs\n",
            "\u001b[1m1/1\u001b[0m \u001b[32m━━━━━━━━━━━━━━━━━━━━\u001b[0m\u001b[37m\u001b[0m \u001b[1m0s\u001b[0m 58ms/step\n",
            "Image: /content/drive/MyDrive/PhotosforAIapplication/SuspectedcopiedHermes/IMG_6155.jpg -> Predicted Category: Original Designs\n"
          ]
        }
      ]
    },
    {
      "cell_type": "code",
      "source": [
        "import numpy as np\n",
        "from tensorflow.keras.preprocessing import image\n",
        "import os # Import os module\n",
        "\n",
        "def predict_image_category(img_path):\n",
        "    # Print the absolute path\n",
        "    # print(\"Absolute Path:\", os.path.abspath(img_path))\n",
        "    # Print directory contents\n",
        "    # print(\"Directory Contents:\", os.listdir(os.path.dirname(img_path)))\n",
        "    img = image.load_img(img_path, target_size=(224, 224))\n",
        "    img_array = image.img_to_array(img) / 255.0\n",
        "    img_array = np.expand_dims(img_array, axis=0)\n",
        "    prediction = model.predict(img_array)\n",
        "    categories = [\"Original Designs\", \"Suspected Copied Designs\", \"Distinct Designs\"]\n",
        "    return categories[np.argmax(prediction)]\n",
        "\n",
        "\n",
        "# Test with your 15 images\n",
        "test_images = [\n",
        "    '/content/drive/MyDrive/PhotosforAIapplication/OriginalDesignsNomad/IMG_6047.jpg', # Added comma\n",
        "    '/content/drive/MyDrive/PhotosforAIapplication/OriginalDesignsNomad/IMG_6109 2.PNG', # Added comma\n",
        "    '/content/drive/MyDrive/PhotosforAIapplication/OriginalDesignsNomad/IMG_6109.PNG', # Added comma\n",
        "    '/content/drive/MyDrive/PhotosforAIapplication/OriginalDesignsNomad/IMG_6110 2.jpg', # Added comma\n",
        "    '/content/drive/MyDrive/PhotosforAIapplication/OriginalDesignsNomad/IMG_6111 2.jpg', # Added comma\n",
        "    '/content/drive/MyDrive/PhotosforAIapplication/OriginalDesignsNomad/IMG_6112 2.jpg', # Added comma\n",
        "    '/content/drive/MyDrive/PhotosforAIapplication/OriginalDesignsNomad/IMG_6113 2.jpg', # Added comma\n",
        "    '/content/drive/MyDrive/PhotosforAIapplication/SuspectedcopiedNomad/IMG_6086.jpg', # Added comma\n",
        "    '/content/drive/MyDrive/PhotosforAIapplication/SuspectedcopiedNomad/IMG_6087.jpg', # Added comma\n",
        "    '/content/drive/MyDrive/PhotosforAIapplication/SuspectedcopiedNomad/IMG_6089.PNG', # Added comma\n",
        "    '/content/drive/MyDrive/PhotosforAIapplication/SuspectedcopiedNomad/IMG_6090.PNG', # Added comma\n",
        "    '/content/drive/MyDrive/PhotosforAIapplication/SuspectedcopiedNomad/IMG_6108 2.PNG', # Added comma\n",
        "    '/content/drive/MyDrive/PhotosforAIapplication/SuspectedcopiedNomad/IMG_6114 2.jpg', # Added comma\n",
        "    '/content/drive/MyDrive/PhotosforAIapplication/SuspectedcopiedNomad/IMG_6115 2.PNG', # Added comma\n",
        "    '/content/drive/MyDrive/PhotosforAIapplication/SuspectedcopiedNomad/IMG_6117 2.jpg', # Added comma\n",
        "    '/content/drive/MyDrive/PhotosforAIapplication/SuspectedcopiedNomad/IMG_6117 2.jpg', # Added comma\n",
        "    '/content/drive/MyDrive/PhotosforAIapplication/SuspectedcopiedNomad/IMG_6118 2.jpg', # Added comma\n",
        "    '/content/drive/MyDrive/PhotosforAIapplication/DistinctDesigns/IMG_6164 2.JPG', # Added comma\n",
        "    '/content/drive/MyDrive/PhotosforAIapplication/DistinctDesigns/IMG_6164.JPG',\n",
        "    '/content/drive/MyDrive/PhotosforAIapplication/DistinctDesigns/IMG_6166.JPG',\n",
        "    '/content/drive/MyDrive/PhotosforAIapplication/DistinctDesigns/IMG_6170.JPG',\n",
        "\n",
        "]\n",
        "\n",
        "for img_path in test_images:\n",
        "    print(f\"Image: {img_path} -> Predicted Category: {predict_image_category(img_path)}\")\n",
        "\n"
      ],
      "metadata": {
        "colab": {
          "base_uri": "https://localhost:8080/"
        },
        "id": "viGHoj9grIYQ",
        "outputId": "206887fb-e5db-488a-bd6a-7d7e840f9fe1"
      },
      "execution_count": null,
      "outputs": [
        {
          "output_type": "stream",
          "name": "stdout",
          "text": [
            "\u001b[1m1/1\u001b[0m \u001b[32m━━━━━━━━━━━━━━━━━━━━\u001b[0m\u001b[37m\u001b[0m \u001b[1m0s\u001b[0m 62ms/step\n",
            "Image: /content/drive/MyDrive/PhotosforAIapplication/OriginalDesignsNomad/IMG_6047.jpg -> Predicted Category: Original Designs\n",
            "\u001b[1m1/1\u001b[0m \u001b[32m━━━━━━━━━━━━━━━━━━━━\u001b[0m\u001b[37m\u001b[0m \u001b[1m0s\u001b[0m 55ms/step\n",
            "Image: /content/drive/MyDrive/PhotosforAIapplication/OriginalDesignsNomad/IMG_6109 2.PNG -> Predicted Category: Original Designs\n",
            "\u001b[1m1/1\u001b[0m \u001b[32m━━━━━━━━━━━━━━━━━━━━\u001b[0m\u001b[37m\u001b[0m \u001b[1m0s\u001b[0m 57ms/step\n",
            "Image: /content/drive/MyDrive/PhotosforAIapplication/OriginalDesignsNomad/IMG_6109.PNG -> Predicted Category: Original Designs\n",
            "\u001b[1m1/1\u001b[0m \u001b[32m━━━━━━━━━━━━━━━━━━━━\u001b[0m\u001b[37m\u001b[0m \u001b[1m0s\u001b[0m 56ms/step\n",
            "Image: /content/drive/MyDrive/PhotosforAIapplication/OriginalDesignsNomad/IMG_6110 2.jpg -> Predicted Category: Original Designs\n",
            "\u001b[1m1/1\u001b[0m \u001b[32m━━━━━━━━━━━━━━━━━━━━\u001b[0m\u001b[37m\u001b[0m \u001b[1m0s\u001b[0m 83ms/step\n",
            "Image: /content/drive/MyDrive/PhotosforAIapplication/OriginalDesignsNomad/IMG_6111 2.jpg -> Predicted Category: Distinct Designs\n",
            "\u001b[1m1/1\u001b[0m \u001b[32m━━━━━━━━━━━━━━━━━━━━\u001b[0m\u001b[37m\u001b[0m \u001b[1m0s\u001b[0m 92ms/step\n",
            "Image: /content/drive/MyDrive/PhotosforAIapplication/OriginalDesignsNomad/IMG_6112 2.jpg -> Predicted Category: Original Designs\n",
            "\u001b[1m1/1\u001b[0m \u001b[32m━━━━━━━━━━━━━━━━━━━━\u001b[0m\u001b[37m\u001b[0m \u001b[1m0s\u001b[0m 90ms/step\n",
            "Image: /content/drive/MyDrive/PhotosforAIapplication/OriginalDesignsNomad/IMG_6113 2.jpg -> Predicted Category: Original Designs\n",
            "\u001b[1m1/1\u001b[0m \u001b[32m━━━━━━━━━━━━━━━━━━━━\u001b[0m\u001b[37m\u001b[0m \u001b[1m0s\u001b[0m 57ms/step\n",
            "Image: /content/drive/MyDrive/PhotosforAIapplication/SuspectedcopiedNomad/IMG_6086.jpg -> Predicted Category: Original Designs\n",
            "\u001b[1m1/1\u001b[0m \u001b[32m━━━━━━━━━━━━━━━━━━━━\u001b[0m\u001b[37m\u001b[0m \u001b[1m0s\u001b[0m 61ms/step\n",
            "Image: /content/drive/MyDrive/PhotosforAIapplication/SuspectedcopiedNomad/IMG_6087.jpg -> Predicted Category: Original Designs\n",
            "\u001b[1m1/1\u001b[0m \u001b[32m━━━━━━━━━━━━━━━━━━━━\u001b[0m\u001b[37m\u001b[0m \u001b[1m0s\u001b[0m 55ms/step\n",
            "Image: /content/drive/MyDrive/PhotosforAIapplication/SuspectedcopiedNomad/IMG_6089.PNG -> Predicted Category: Original Designs\n",
            "\u001b[1m1/1\u001b[0m \u001b[32m━━━━━━━━━━━━━━━━━━━━\u001b[0m\u001b[37m\u001b[0m \u001b[1m0s\u001b[0m 63ms/step\n",
            "Image: /content/drive/MyDrive/PhotosforAIapplication/SuspectedcopiedNomad/IMG_6090.PNG -> Predicted Category: Original Designs\n",
            "\u001b[1m1/1\u001b[0m \u001b[32m━━━━━━━━━━━━━━━━━━━━\u001b[0m\u001b[37m\u001b[0m \u001b[1m0s\u001b[0m 56ms/step\n",
            "Image: /content/drive/MyDrive/PhotosforAIapplication/SuspectedcopiedNomad/IMG_6108 2.PNG -> Predicted Category: Original Designs\n",
            "\u001b[1m1/1\u001b[0m \u001b[32m━━━━━━━━━━━━━━━━━━━━\u001b[0m\u001b[37m\u001b[0m \u001b[1m0s\u001b[0m 57ms/step\n",
            "Image: /content/drive/MyDrive/PhotosforAIapplication/SuspectedcopiedNomad/IMG_6114 2.jpg -> Predicted Category: Original Designs\n",
            "\u001b[1m1/1\u001b[0m \u001b[32m━━━━━━━━━━━━━━━━━━━━\u001b[0m\u001b[37m\u001b[0m \u001b[1m0s\u001b[0m 65ms/step\n",
            "Image: /content/drive/MyDrive/PhotosforAIapplication/SuspectedcopiedNomad/IMG_6115 2.PNG -> Predicted Category: Original Designs\n",
            "\u001b[1m1/1\u001b[0m \u001b[32m━━━━━━━━━━━━━━━━━━━━\u001b[0m\u001b[37m\u001b[0m \u001b[1m0s\u001b[0m 56ms/step\n",
            "Image: /content/drive/MyDrive/PhotosforAIapplication/SuspectedcopiedNomad/IMG_6117 2.jpg -> Predicted Category: Original Designs\n",
            "\u001b[1m1/1\u001b[0m \u001b[32m━━━━━━━━━━━━━━━━━━━━\u001b[0m\u001b[37m\u001b[0m \u001b[1m0s\u001b[0m 69ms/step\n",
            "Image: /content/drive/MyDrive/PhotosforAIapplication/SuspectedcopiedNomad/IMG_6117 2.jpg -> Predicted Category: Original Designs\n",
            "\u001b[1m1/1\u001b[0m \u001b[32m━━━━━━━━━━━━━━━━━━━━\u001b[0m\u001b[37m\u001b[0m \u001b[1m0s\u001b[0m 89ms/step\n",
            "Image: /content/drive/MyDrive/PhotosforAIapplication/SuspectedcopiedNomad/IMG_6118 2.jpg -> Predicted Category: Original Designs\n",
            "\u001b[1m1/1\u001b[0m \u001b[32m━━━━━━━━━━━━━━━━━━━━\u001b[0m\u001b[37m\u001b[0m \u001b[1m0s\u001b[0m 114ms/step\n",
            "Image: /content/drive/MyDrive/PhotosforAIapplication/DistinctDesigns/IMG_6164 2.JPG -> Predicted Category: Original Designs\n",
            "\u001b[1m1/1\u001b[0m \u001b[32m━━━━━━━━━━━━━━━━━━━━\u001b[0m\u001b[37m\u001b[0m \u001b[1m0s\u001b[0m 122ms/step\n",
            "Image: /content/drive/MyDrive/PhotosforAIapplication/DistinctDesigns/IMG_6164.JPG -> Predicted Category: Original Designs\n",
            "\u001b[1m1/1\u001b[0m \u001b[32m━━━━━━━━━━━━━━━━━━━━\u001b[0m\u001b[37m\u001b[0m \u001b[1m0s\u001b[0m 91ms/step\n",
            "Image: /content/drive/MyDrive/PhotosforAIapplication/DistinctDesigns/IMG_6166.JPG -> Predicted Category: Suspected Copied Designs\n",
            "\u001b[1m1/1\u001b[0m \u001b[32m━━━━━━━━━━━━━━━━━━━━\u001b[0m\u001b[37m\u001b[0m \u001b[1m0s\u001b[0m 96ms/step\n",
            "Image: /content/drive/MyDrive/PhotosforAIapplication/DistinctDesigns/IMG_6170.JPG -> Predicted Category: Original Designs\n"
          ]
        }
      ]
    },
    {
      "cell_type": "code",
      "source": [
        "!pip install streamlit\n"
      ],
      "metadata": {
        "colab": {
          "base_uri": "https://localhost:8080/"
        },
        "id": "E7LDztlYr-uf",
        "outputId": "412721be-16ae-4e5e-d9fb-88cf0e6ac275"
      },
      "execution_count": null,
      "outputs": [
        {
          "output_type": "stream",
          "name": "stdout",
          "text": [
            "Requirement already satisfied: streamlit in /usr/local/lib/python3.10/dist-packages (1.40.2)\n",
            "Requirement already satisfied: altair<6,>=4.0 in /usr/local/lib/python3.10/dist-packages (from streamlit) (4.2.2)\n",
            "Requirement already satisfied: blinker<2,>=1.0.0 in /usr/local/lib/python3.10/dist-packages (from streamlit) (1.9.0)\n",
            "Requirement already satisfied: cachetools<6,>=4.0 in /usr/local/lib/python3.10/dist-packages (from streamlit) (5.5.0)\n",
            "Requirement already satisfied: click<9,>=7.0 in /usr/local/lib/python3.10/dist-packages (from streamlit) (8.1.7)\n",
            "Requirement already satisfied: numpy<3,>=1.23 in /usr/local/lib/python3.10/dist-packages (from streamlit) (1.26.4)\n",
            "Requirement already satisfied: packaging<25,>=20 in /usr/local/lib/python3.10/dist-packages (from streamlit) (24.2)\n",
            "Requirement already satisfied: pandas<3,>=1.4.0 in /usr/local/lib/python3.10/dist-packages (from streamlit) (2.2.2)\n",
            "Requirement already satisfied: pillow<12,>=7.1.0 in /usr/local/lib/python3.10/dist-packages (from streamlit) (11.0.0)\n",
            "Requirement already satisfied: protobuf<6,>=3.20 in /usr/local/lib/python3.10/dist-packages (from streamlit) (4.25.5)\n",
            "Requirement already satisfied: pyarrow>=7.0 in /usr/local/lib/python3.10/dist-packages (from streamlit) (17.0.0)\n",
            "Requirement already satisfied: requests<3,>=2.27 in /usr/local/lib/python3.10/dist-packages (from streamlit) (2.32.3)\n",
            "Requirement already satisfied: rich<14,>=10.14.0 in /usr/local/lib/python3.10/dist-packages (from streamlit) (13.9.4)\n",
            "Requirement already satisfied: tenacity<10,>=8.1.0 in /usr/local/lib/python3.10/dist-packages (from streamlit) (9.0.0)\n",
            "Requirement already satisfied: toml<2,>=0.10.1 in /usr/local/lib/python3.10/dist-packages (from streamlit) (0.10.2)\n",
            "Requirement already satisfied: typing-extensions<5,>=4.3.0 in /usr/local/lib/python3.10/dist-packages (from streamlit) (4.12.2)\n",
            "Requirement already satisfied: watchdog<7,>=2.1.5 in /usr/local/lib/python3.10/dist-packages (from streamlit) (6.0.0)\n",
            "Requirement already satisfied: gitpython!=3.1.19,<4,>=3.0.7 in /usr/local/lib/python3.10/dist-packages (from streamlit) (3.1.43)\n",
            "Requirement already satisfied: pydeck<1,>=0.8.0b4 in /usr/local/lib/python3.10/dist-packages (from streamlit) (0.9.1)\n",
            "Requirement already satisfied: tornado<7,>=6.0.3 in /usr/local/lib/python3.10/dist-packages (from streamlit) (6.3.3)\n",
            "Requirement already satisfied: entrypoints in /usr/local/lib/python3.10/dist-packages (from altair<6,>=4.0->streamlit) (0.4)\n",
            "Requirement already satisfied: jinja2 in /usr/local/lib/python3.10/dist-packages (from altair<6,>=4.0->streamlit) (3.1.4)\n",
            "Requirement already satisfied: jsonschema>=3.0 in /usr/local/lib/python3.10/dist-packages (from altair<6,>=4.0->streamlit) (4.23.0)\n",
            "Requirement already satisfied: toolz in /usr/local/lib/python3.10/dist-packages (from altair<6,>=4.0->streamlit) (0.12.1)\n",
            "Requirement already satisfied: gitdb<5,>=4.0.1 in /usr/local/lib/python3.10/dist-packages (from gitpython!=3.1.19,<4,>=3.0.7->streamlit) (4.0.11)\n",
            "Requirement already satisfied: python-dateutil>=2.8.2 in /usr/local/lib/python3.10/dist-packages (from pandas<3,>=1.4.0->streamlit) (2.8.2)\n",
            "Requirement already satisfied: pytz>=2020.1 in /usr/local/lib/python3.10/dist-packages (from pandas<3,>=1.4.0->streamlit) (2024.2)\n",
            "Requirement already satisfied: tzdata>=2022.7 in /usr/local/lib/python3.10/dist-packages (from pandas<3,>=1.4.0->streamlit) (2024.2)\n",
            "Requirement already satisfied: charset-normalizer<4,>=2 in /usr/local/lib/python3.10/dist-packages (from requests<3,>=2.27->streamlit) (3.4.0)\n",
            "Requirement already satisfied: idna<4,>=2.5 in /usr/local/lib/python3.10/dist-packages (from requests<3,>=2.27->streamlit) (3.10)\n",
            "Requirement already satisfied: urllib3<3,>=1.21.1 in /usr/local/lib/python3.10/dist-packages (from requests<3,>=2.27->streamlit) (2.2.3)\n",
            "Requirement already satisfied: certifi>=2017.4.17 in /usr/local/lib/python3.10/dist-packages (from requests<3,>=2.27->streamlit) (2024.8.30)\n",
            "Requirement already satisfied: markdown-it-py>=2.2.0 in /usr/local/lib/python3.10/dist-packages (from rich<14,>=10.14.0->streamlit) (3.0.0)\n",
            "Requirement already satisfied: pygments<3.0.0,>=2.13.0 in /usr/local/lib/python3.10/dist-packages (from rich<14,>=10.14.0->streamlit) (2.18.0)\n",
            "Requirement already satisfied: smmap<6,>=3.0.1 in /usr/local/lib/python3.10/dist-packages (from gitdb<5,>=4.0.1->gitpython!=3.1.19,<4,>=3.0.7->streamlit) (5.0.1)\n",
            "Requirement already satisfied: MarkupSafe>=2.0 in /usr/local/lib/python3.10/dist-packages (from jinja2->altair<6,>=4.0->streamlit) (3.0.2)\n",
            "Requirement already satisfied: attrs>=22.2.0 in /usr/local/lib/python3.10/dist-packages (from jsonschema>=3.0->altair<6,>=4.0->streamlit) (24.2.0)\n",
            "Requirement already satisfied: jsonschema-specifications>=2023.03.6 in /usr/local/lib/python3.10/dist-packages (from jsonschema>=3.0->altair<6,>=4.0->streamlit) (2024.10.1)\n",
            "Requirement already satisfied: referencing>=0.28.4 in /usr/local/lib/python3.10/dist-packages (from jsonschema>=3.0->altair<6,>=4.0->streamlit) (0.35.1)\n",
            "Requirement already satisfied: rpds-py>=0.7.1 in /usr/local/lib/python3.10/dist-packages (from jsonschema>=3.0->altair<6,>=4.0->streamlit) (0.21.0)\n",
            "Requirement already satisfied: mdurl~=0.1 in /usr/local/lib/python3.10/dist-packages (from markdown-it-py>=2.2.0->rich<14,>=10.14.0->streamlit) (0.1.2)\n",
            "Requirement already satisfied: six>=1.5 in /usr/local/lib/python3.10/dist-packages (from python-dateutil>=2.8.2->pandas<3,>=1.4.0->streamlit) (1.16.0)\n"
          ]
        }
      ]
    },
    {
      "cell_type": "code",
      "source": [
        "from tensorflow.keras.models import load_model\n",
        "\n",
        "# Load the saved model\n",
        "model_path = '/content/drive/MyDrive/PhotosforAIapplication/my_model.h5'\n",
        "model = load_model(model_path)\n",
        "print(\"Model loaded successfully!\")\n"
      ],
      "metadata": {
        "colab": {
          "base_uri": "https://localhost:8080/"
        },
        "id": "Ihq605eYs1qD",
        "outputId": "980bbe7e-fbd6-4c85-e599-ea37d0eacc9b"
      },
      "execution_count": null,
      "outputs": [
        {
          "output_type": "stream",
          "name": "stderr",
          "text": [
            "WARNING:absl:Compiled the loaded model, but the compiled metrics have yet to be built. `model.compile_metrics` will be empty until you train or evaluate the model.\n"
          ]
        },
        {
          "output_type": "stream",
          "name": "stdout",
          "text": [
            "Model loaded successfully!\n"
          ]
        }
      ]
    },
    {
      "cell_type": "code",
      "source": [
        "!pip install streamlit\n"
      ],
      "metadata": {
        "colab": {
          "base_uri": "https://localhost:8080/"
        },
        "id": "HgYPbE7RtBba",
        "outputId": "dad95546-363c-41ad-ff7f-01fe4145c7c7"
      },
      "execution_count": null,
      "outputs": [
        {
          "output_type": "stream",
          "name": "stdout",
          "text": [
            "Requirement already satisfied: streamlit in /usr/local/lib/python3.10/dist-packages (1.40.2)\n",
            "Requirement already satisfied: altair<6,>=4.0 in /usr/local/lib/python3.10/dist-packages (from streamlit) (4.2.2)\n",
            "Requirement already satisfied: blinker<2,>=1.0.0 in /usr/local/lib/python3.10/dist-packages (from streamlit) (1.9.0)\n",
            "Requirement already satisfied: cachetools<6,>=4.0 in /usr/local/lib/python3.10/dist-packages (from streamlit) (5.5.0)\n",
            "Requirement already satisfied: click<9,>=7.0 in /usr/local/lib/python3.10/dist-packages (from streamlit) (8.1.7)\n",
            "Requirement already satisfied: numpy<3,>=1.23 in /usr/local/lib/python3.10/dist-packages (from streamlit) (1.26.4)\n",
            "Requirement already satisfied: packaging<25,>=20 in /usr/local/lib/python3.10/dist-packages (from streamlit) (24.2)\n",
            "Requirement already satisfied: pandas<3,>=1.4.0 in /usr/local/lib/python3.10/dist-packages (from streamlit) (2.2.2)\n",
            "Requirement already satisfied: pillow<12,>=7.1.0 in /usr/local/lib/python3.10/dist-packages (from streamlit) (11.0.0)\n",
            "Requirement already satisfied: protobuf<6,>=3.20 in /usr/local/lib/python3.10/dist-packages (from streamlit) (4.25.5)\n",
            "Requirement already satisfied: pyarrow>=7.0 in /usr/local/lib/python3.10/dist-packages (from streamlit) (17.0.0)\n",
            "Requirement already satisfied: requests<3,>=2.27 in /usr/local/lib/python3.10/dist-packages (from streamlit) (2.32.3)\n",
            "Requirement already satisfied: rich<14,>=10.14.0 in /usr/local/lib/python3.10/dist-packages (from streamlit) (13.9.4)\n",
            "Requirement already satisfied: tenacity<10,>=8.1.0 in /usr/local/lib/python3.10/dist-packages (from streamlit) (9.0.0)\n",
            "Requirement already satisfied: toml<2,>=0.10.1 in /usr/local/lib/python3.10/dist-packages (from streamlit) (0.10.2)\n",
            "Requirement already satisfied: typing-extensions<5,>=4.3.0 in /usr/local/lib/python3.10/dist-packages (from streamlit) (4.12.2)\n",
            "Requirement already satisfied: watchdog<7,>=2.1.5 in /usr/local/lib/python3.10/dist-packages (from streamlit) (6.0.0)\n",
            "Requirement already satisfied: gitpython!=3.1.19,<4,>=3.0.7 in /usr/local/lib/python3.10/dist-packages (from streamlit) (3.1.43)\n",
            "Requirement already satisfied: pydeck<1,>=0.8.0b4 in /usr/local/lib/python3.10/dist-packages (from streamlit) (0.9.1)\n",
            "Requirement already satisfied: tornado<7,>=6.0.3 in /usr/local/lib/python3.10/dist-packages (from streamlit) (6.3.3)\n",
            "Requirement already satisfied: entrypoints in /usr/local/lib/python3.10/dist-packages (from altair<6,>=4.0->streamlit) (0.4)\n",
            "Requirement already satisfied: jinja2 in /usr/local/lib/python3.10/dist-packages (from altair<6,>=4.0->streamlit) (3.1.4)\n",
            "Requirement already satisfied: jsonschema>=3.0 in /usr/local/lib/python3.10/dist-packages (from altair<6,>=4.0->streamlit) (4.23.0)\n",
            "Requirement already satisfied: toolz in /usr/local/lib/python3.10/dist-packages (from altair<6,>=4.0->streamlit) (0.12.1)\n",
            "Requirement already satisfied: gitdb<5,>=4.0.1 in /usr/local/lib/python3.10/dist-packages (from gitpython!=3.1.19,<4,>=3.0.7->streamlit) (4.0.11)\n",
            "Requirement already satisfied: python-dateutil>=2.8.2 in /usr/local/lib/python3.10/dist-packages (from pandas<3,>=1.4.0->streamlit) (2.8.2)\n",
            "Requirement already satisfied: pytz>=2020.1 in /usr/local/lib/python3.10/dist-packages (from pandas<3,>=1.4.0->streamlit) (2024.2)\n",
            "Requirement already satisfied: tzdata>=2022.7 in /usr/local/lib/python3.10/dist-packages (from pandas<3,>=1.4.0->streamlit) (2024.2)\n",
            "Requirement already satisfied: charset-normalizer<4,>=2 in /usr/local/lib/python3.10/dist-packages (from requests<3,>=2.27->streamlit) (3.4.0)\n",
            "Requirement already satisfied: idna<4,>=2.5 in /usr/local/lib/python3.10/dist-packages (from requests<3,>=2.27->streamlit) (3.10)\n",
            "Requirement already satisfied: urllib3<3,>=1.21.1 in /usr/local/lib/python3.10/dist-packages (from requests<3,>=2.27->streamlit) (2.2.3)\n",
            "Requirement already satisfied: certifi>=2017.4.17 in /usr/local/lib/python3.10/dist-packages (from requests<3,>=2.27->streamlit) (2024.8.30)\n",
            "Requirement already satisfied: markdown-it-py>=2.2.0 in /usr/local/lib/python3.10/dist-packages (from rich<14,>=10.14.0->streamlit) (3.0.0)\n",
            "Requirement already satisfied: pygments<3.0.0,>=2.13.0 in /usr/local/lib/python3.10/dist-packages (from rich<14,>=10.14.0->streamlit) (2.18.0)\n",
            "Requirement already satisfied: smmap<6,>=3.0.1 in /usr/local/lib/python3.10/dist-packages (from gitdb<5,>=4.0.1->gitpython!=3.1.19,<4,>=3.0.7->streamlit) (5.0.1)\n",
            "Requirement already satisfied: MarkupSafe>=2.0 in /usr/local/lib/python3.10/dist-packages (from jinja2->altair<6,>=4.0->streamlit) (3.0.2)\n",
            "Requirement already satisfied: attrs>=22.2.0 in /usr/local/lib/python3.10/dist-packages (from jsonschema>=3.0->altair<6,>=4.0->streamlit) (24.2.0)\n",
            "Requirement already satisfied: jsonschema-specifications>=2023.03.6 in /usr/local/lib/python3.10/dist-packages (from jsonschema>=3.0->altair<6,>=4.0->streamlit) (2024.10.1)\n",
            "Requirement already satisfied: referencing>=0.28.4 in /usr/local/lib/python3.10/dist-packages (from jsonschema>=3.0->altair<6,>=4.0->streamlit) (0.35.1)\n",
            "Requirement already satisfied: rpds-py>=0.7.1 in /usr/local/lib/python3.10/dist-packages (from jsonschema>=3.0->altair<6,>=4.0->streamlit) (0.21.0)\n",
            "Requirement already satisfied: mdurl~=0.1 in /usr/local/lib/python3.10/dist-packages (from markdown-it-py>=2.2.0->rich<14,>=10.14.0->streamlit) (0.1.2)\n",
            "Requirement already satisfied: six>=1.5 in /usr/local/lib/python3.10/dist-packages (from python-dateutil>=2.8.2->pandas<3,>=1.4.0->streamlit) (1.16.0)\n"
          ]
        }
      ]
    },
    {
      "cell_type": "code",
      "source": [
        "import streamlit as st\n",
        "from tensorflow.keras.models import load_model\n",
        "from tensorflow.keras.preprocessing import image\n",
        "import numpy as np\n",
        "\n",
        "# Load the trained model\n",
        "model = load_model('/content/drive/MyDrive/PhotosforAIapplication/my_model.h5') # Remove the closing parenthesis ')' from the file path\n",
        "\n",
        "# Streamlit interface\n",
        "st.title(\"Footwear Design Similarity Checker\")\n",
        "uploaded_file = st.file_uploader(\"Upload a footwear image\", type=[\"jpg\", \"png\"])\n",
        "\n",
        "if uploaded_file is not None:\n",
        "    img = image.load_img(uploaded_file, target_size=(224, 224))\n",
        "    img_array = image.img_to_array(img) / 255.0\n",
        "    img_array = np.expand_dims(img_array, axis=0)\n",
        "    prediction = model.predict(img_array)\n",
        "    categories = [\"Original Designs\", \"Suspected Copied Designs\", \"Distinct Designs\"]\n",
        "    st.write(f\"Predicted Category: {categories[np.argmax(prediction)]}\")\n"
      ],
      "metadata": {
        "colab": {
          "base_uri": "https://localhost:8080/"
        },
        "id": "25sxx44MtDzw",
        "outputId": "549bcfb9-e49c-4b65-a429-46ddcb74b89c"
      },
      "execution_count": null,
      "outputs": [
        {
          "output_type": "stream",
          "name": "stderr",
          "text": [
            "WARNING:absl:Compiled the loaded model, but the compiled metrics have yet to be built. `model.compile_metrics` will be empty until you train or evaluate the model.\n",
            "2024-12-02 00:11:32.096 WARNING streamlit.runtime.scriptrunner_utils.script_run_context: Thread 'MainThread': missing ScriptRunContext! This warning can be ignored when running in bare mode.\n",
            "2024-12-02 00:11:32.177 \n",
            "  \u001b[33m\u001b[1mWarning:\u001b[0m to view this Streamlit app on a browser, run it with the following\n",
            "  command:\n",
            "\n",
            "    streamlit run /usr/local/lib/python3.10/dist-packages/colab_kernel_launcher.py [ARGUMENTS]\n",
            "2024-12-02 00:11:32.179 Thread 'MainThread': missing ScriptRunContext! This warning can be ignored when running in bare mode.\n",
            "2024-12-02 00:11:32.182 Thread 'MainThread': missing ScriptRunContext! This warning can be ignored when running in bare mode.\n",
            "2024-12-02 00:11:32.184 Thread 'MainThread': missing ScriptRunContext! This warning can be ignored when running in bare mode.\n",
            "2024-12-02 00:11:32.186 Thread 'MainThread': missing ScriptRunContext! This warning can be ignored when running in bare mode.\n",
            "2024-12-02 00:11:32.188 Thread 'MainThread': missing ScriptRunContext! This warning can be ignored when running in bare mode.\n",
            "2024-12-02 00:11:32.190 Thread 'MainThread': missing ScriptRunContext! This warning can be ignored when running in bare mode.\n"
          ]
        }
      ]
    },
    {
      "cell_type": "code",
      "source": [
        "pip install tensorflow streamlit\n"
      ],
      "metadata": {
        "colab": {
          "base_uri": "https://localhost:8080/"
        },
        "id": "tzTXiYHEttk3",
        "outputId": "8dd26232-418d-435e-b43e-0ba52e0b4bed"
      },
      "execution_count": null,
      "outputs": [
        {
          "output_type": "stream",
          "name": "stdout",
          "text": [
            "Requirement already satisfied: tensorflow in /usr/local/lib/python3.10/dist-packages (2.17.1)\n",
            "Requirement already satisfied: streamlit in /usr/local/lib/python3.10/dist-packages (1.40.2)\n",
            "Requirement already satisfied: absl-py>=1.0.0 in /usr/local/lib/python3.10/dist-packages (from tensorflow) (1.4.0)\n",
            "Requirement already satisfied: astunparse>=1.6.0 in /usr/local/lib/python3.10/dist-packages (from tensorflow) (1.6.3)\n",
            "Requirement already satisfied: flatbuffers>=24.3.25 in /usr/local/lib/python3.10/dist-packages (from tensorflow) (24.3.25)\n",
            "Requirement already satisfied: gast!=0.5.0,!=0.5.1,!=0.5.2,>=0.2.1 in /usr/local/lib/python3.10/dist-packages (from tensorflow) (0.6.0)\n",
            "Requirement already satisfied: google-pasta>=0.1.1 in /usr/local/lib/python3.10/dist-packages (from tensorflow) (0.2.0)\n",
            "Requirement already satisfied: h5py>=3.10.0 in /usr/local/lib/python3.10/dist-packages (from tensorflow) (3.12.1)\n",
            "Requirement already satisfied: libclang>=13.0.0 in /usr/local/lib/python3.10/dist-packages (from tensorflow) (18.1.1)\n",
            "Requirement already satisfied: ml-dtypes<0.5.0,>=0.3.1 in /usr/local/lib/python3.10/dist-packages (from tensorflow) (0.4.1)\n",
            "Requirement already satisfied: opt-einsum>=2.3.2 in /usr/local/lib/python3.10/dist-packages (from tensorflow) (3.4.0)\n",
            "Requirement already satisfied: packaging in /usr/local/lib/python3.10/dist-packages (from tensorflow) (24.2)\n",
            "Requirement already satisfied: protobuf!=4.21.0,!=4.21.1,!=4.21.2,!=4.21.3,!=4.21.4,!=4.21.5,<5.0.0dev,>=3.20.3 in /usr/local/lib/python3.10/dist-packages (from tensorflow) (4.25.5)\n",
            "Requirement already satisfied: requests<3,>=2.21.0 in /usr/local/lib/python3.10/dist-packages (from tensorflow) (2.32.3)\n",
            "Requirement already satisfied: setuptools in /usr/local/lib/python3.10/dist-packages (from tensorflow) (75.1.0)\n",
            "Requirement already satisfied: six>=1.12.0 in /usr/local/lib/python3.10/dist-packages (from tensorflow) (1.16.0)\n",
            "Requirement already satisfied: termcolor>=1.1.0 in /usr/local/lib/python3.10/dist-packages (from tensorflow) (2.5.0)\n",
            "Requirement already satisfied: typing-extensions>=3.6.6 in /usr/local/lib/python3.10/dist-packages (from tensorflow) (4.12.2)\n",
            "Requirement already satisfied: wrapt>=1.11.0 in /usr/local/lib/python3.10/dist-packages (from tensorflow) (1.16.0)\n",
            "Requirement already satisfied: grpcio<2.0,>=1.24.3 in /usr/local/lib/python3.10/dist-packages (from tensorflow) (1.68.0)\n",
            "Requirement already satisfied: tensorboard<2.18,>=2.17 in /usr/local/lib/python3.10/dist-packages (from tensorflow) (2.17.1)\n",
            "Requirement already satisfied: keras>=3.2.0 in /usr/local/lib/python3.10/dist-packages (from tensorflow) (3.5.0)\n",
            "Requirement already satisfied: tensorflow-io-gcs-filesystem>=0.23.1 in /usr/local/lib/python3.10/dist-packages (from tensorflow) (0.37.1)\n",
            "Requirement already satisfied: numpy<2.0.0,>=1.23.5 in /usr/local/lib/python3.10/dist-packages (from tensorflow) (1.26.4)\n",
            "Requirement already satisfied: altair<6,>=4.0 in /usr/local/lib/python3.10/dist-packages (from streamlit) (4.2.2)\n",
            "Requirement already satisfied: blinker<2,>=1.0.0 in /usr/local/lib/python3.10/dist-packages (from streamlit) (1.9.0)\n",
            "Requirement already satisfied: cachetools<6,>=4.0 in /usr/local/lib/python3.10/dist-packages (from streamlit) (5.5.0)\n",
            "Requirement already satisfied: click<9,>=7.0 in /usr/local/lib/python3.10/dist-packages (from streamlit) (8.1.7)\n",
            "Requirement already satisfied: pandas<3,>=1.4.0 in /usr/local/lib/python3.10/dist-packages (from streamlit) (2.2.2)\n",
            "Requirement already satisfied: pillow<12,>=7.1.0 in /usr/local/lib/python3.10/dist-packages (from streamlit) (11.0.0)\n",
            "Requirement already satisfied: pyarrow>=7.0 in /usr/local/lib/python3.10/dist-packages (from streamlit) (17.0.0)\n",
            "Requirement already satisfied: rich<14,>=10.14.0 in /usr/local/lib/python3.10/dist-packages (from streamlit) (13.9.4)\n",
            "Requirement already satisfied: tenacity<10,>=8.1.0 in /usr/local/lib/python3.10/dist-packages (from streamlit) (9.0.0)\n",
            "Requirement already satisfied: toml<2,>=0.10.1 in /usr/local/lib/python3.10/dist-packages (from streamlit) (0.10.2)\n",
            "Requirement already satisfied: watchdog<7,>=2.1.5 in /usr/local/lib/python3.10/dist-packages (from streamlit) (6.0.0)\n",
            "Requirement already satisfied: gitpython!=3.1.19,<4,>=3.0.7 in /usr/local/lib/python3.10/dist-packages (from streamlit) (3.1.43)\n",
            "Requirement already satisfied: pydeck<1,>=0.8.0b4 in /usr/local/lib/python3.10/dist-packages (from streamlit) (0.9.1)\n",
            "Requirement already satisfied: tornado<7,>=6.0.3 in /usr/local/lib/python3.10/dist-packages (from streamlit) (6.3.3)\n",
            "Requirement already satisfied: entrypoints in /usr/local/lib/python3.10/dist-packages (from altair<6,>=4.0->streamlit) (0.4)\n",
            "Requirement already satisfied: jinja2 in /usr/local/lib/python3.10/dist-packages (from altair<6,>=4.0->streamlit) (3.1.4)\n",
            "Requirement already satisfied: jsonschema>=3.0 in /usr/local/lib/python3.10/dist-packages (from altair<6,>=4.0->streamlit) (4.23.0)\n",
            "Requirement already satisfied: toolz in /usr/local/lib/python3.10/dist-packages (from altair<6,>=4.0->streamlit) (0.12.1)\n",
            "Requirement already satisfied: wheel<1.0,>=0.23.0 in /usr/local/lib/python3.10/dist-packages (from astunparse>=1.6.0->tensorflow) (0.45.0)\n",
            "Requirement already satisfied: gitdb<5,>=4.0.1 in /usr/local/lib/python3.10/dist-packages (from gitpython!=3.1.19,<4,>=3.0.7->streamlit) (4.0.11)\n",
            "Requirement already satisfied: namex in /usr/local/lib/python3.10/dist-packages (from keras>=3.2.0->tensorflow) (0.0.8)\n",
            "Requirement already satisfied: optree in /usr/local/lib/python3.10/dist-packages (from keras>=3.2.0->tensorflow) (0.13.1)\n",
            "Requirement already satisfied: python-dateutil>=2.8.2 in /usr/local/lib/python3.10/dist-packages (from pandas<3,>=1.4.0->streamlit) (2.8.2)\n",
            "Requirement already satisfied: pytz>=2020.1 in /usr/local/lib/python3.10/dist-packages (from pandas<3,>=1.4.0->streamlit) (2024.2)\n",
            "Requirement already satisfied: tzdata>=2022.7 in /usr/local/lib/python3.10/dist-packages (from pandas<3,>=1.4.0->streamlit) (2024.2)\n",
            "Requirement already satisfied: charset-normalizer<4,>=2 in /usr/local/lib/python3.10/dist-packages (from requests<3,>=2.21.0->tensorflow) (3.4.0)\n",
            "Requirement already satisfied: idna<4,>=2.5 in /usr/local/lib/python3.10/dist-packages (from requests<3,>=2.21.0->tensorflow) (3.10)\n",
            "Requirement already satisfied: urllib3<3,>=1.21.1 in /usr/local/lib/python3.10/dist-packages (from requests<3,>=2.21.0->tensorflow) (2.2.3)\n",
            "Requirement already satisfied: certifi>=2017.4.17 in /usr/local/lib/python3.10/dist-packages (from requests<3,>=2.21.0->tensorflow) (2024.8.30)\n",
            "Requirement already satisfied: markdown-it-py>=2.2.0 in /usr/local/lib/python3.10/dist-packages (from rich<14,>=10.14.0->streamlit) (3.0.0)\n",
            "Requirement already satisfied: pygments<3.0.0,>=2.13.0 in /usr/local/lib/python3.10/dist-packages (from rich<14,>=10.14.0->streamlit) (2.18.0)\n",
            "Requirement already satisfied: markdown>=2.6.8 in /usr/local/lib/python3.10/dist-packages (from tensorboard<2.18,>=2.17->tensorflow) (3.7)\n",
            "Requirement already satisfied: tensorboard-data-server<0.8.0,>=0.7.0 in /usr/local/lib/python3.10/dist-packages (from tensorboard<2.18,>=2.17->tensorflow) (0.7.2)\n",
            "Requirement already satisfied: werkzeug>=1.0.1 in /usr/local/lib/python3.10/dist-packages (from tensorboard<2.18,>=2.17->tensorflow) (3.1.3)\n",
            "Requirement already satisfied: smmap<6,>=3.0.1 in /usr/local/lib/python3.10/dist-packages (from gitdb<5,>=4.0.1->gitpython!=3.1.19,<4,>=3.0.7->streamlit) (5.0.1)\n",
            "Requirement already satisfied: MarkupSafe>=2.0 in /usr/local/lib/python3.10/dist-packages (from jinja2->altair<6,>=4.0->streamlit) (3.0.2)\n",
            "Requirement already satisfied: attrs>=22.2.0 in /usr/local/lib/python3.10/dist-packages (from jsonschema>=3.0->altair<6,>=4.0->streamlit) (24.2.0)\n",
            "Requirement already satisfied: jsonschema-specifications>=2023.03.6 in /usr/local/lib/python3.10/dist-packages (from jsonschema>=3.0->altair<6,>=4.0->streamlit) (2024.10.1)\n",
            "Requirement already satisfied: referencing>=0.28.4 in /usr/local/lib/python3.10/dist-packages (from jsonschema>=3.0->altair<6,>=4.0->streamlit) (0.35.1)\n",
            "Requirement already satisfied: rpds-py>=0.7.1 in /usr/local/lib/python3.10/dist-packages (from jsonschema>=3.0->altair<6,>=4.0->streamlit) (0.21.0)\n",
            "Requirement already satisfied: mdurl~=0.1 in /usr/local/lib/python3.10/dist-packages (from markdown-it-py>=2.2.0->rich<14,>=10.14.0->streamlit) (0.1.2)\n"
          ]
        }
      ]
    },
    {
      "cell_type": "code",
      "source": [
        "model.compile(optimizer='adam', loss='binary_crossentropy', metrics=['accuracy'])\n"
      ],
      "metadata": {
        "id": "flhRLDcht1Zc"
      },
      "execution_count": null,
      "outputs": []
    },
    {
      "cell_type": "code",
      "source": [
        "from tensorflow.keras.models import load_model\n",
        "\n",
        "# Load the model\n",
        "model_path = '/content/drive/MyDrive/PhotosforAIapplication/my_model.h5'\n",
        "model = load_model(model_path)\n",
        "\n",
        "# Compile the model (optional for predictions)\n",
        "model.compile(optimizer='adam', loss='binary_crossentropy', metrics=['accuracy'])\n"
      ],
      "metadata": {
        "colab": {
          "base_uri": "https://localhost:8080/"
        },
        "id": "-ZbdqNeKt3KK",
        "outputId": "b0cd85ea-dbde-422c-e5fb-c7aa57651030"
      },
      "execution_count": null,
      "outputs": [
        {
          "output_type": "stream",
          "name": "stderr",
          "text": [
            "WARNING:absl:Compiled the loaded model, but the compiled metrics have yet to be built. `model.compile_metrics` will be empty until you train or evaluate the model.\n"
          ]
        }
      ]
    },
    {
      "cell_type": "code",
      "source": [
        "!streamlit run app.py"
      ],
      "metadata": {
        "colab": {
          "base_uri": "https://localhost:8080/"
        },
        "id": "IGFfEQlGtpK4",
        "outputId": "ace79481-258b-4447-b95a-7d5984794c68"
      },
      "execution_count": null,
      "outputs": [
        {
          "output_type": "stream",
          "name": "stdout",
          "text": [
            "Usage: streamlit run [OPTIONS] TARGET [ARGS]...\n",
            "Try 'streamlit run --help' for help.\n",
            "\n",
            "Error: Invalid value: File does not exist: app.py\n"
          ]
        }
      ]
    },
    {
      "cell_type": "code",
      "source": [
        "import os\n",
        "# Check if the file exists\n",
        "os.path.exists(\"/content/drive/MyDrive/footwear-ai-app/app.py\")\n"
      ],
      "metadata": {
        "colab": {
          "base_uri": "https://localhost:8080/"
        },
        "id": "Ap1i_0HG0OAL",
        "outputId": "85d8ff6a-efb8-464f-a2cf-2d8d85060a2e"
      },
      "execution_count": null,
      "outputs": [
        {
          "output_type": "execute_result",
          "data": {
            "text/plain": [
              "False"
            ]
          },
          "metadata": {},
          "execution_count": 93
        }
      ]
    },
    {
      "cell_type": "code",
      "source": [
        "import os\n",
        "\n",
        "# Create the folder if it doesn't exist\n",
        "folder_path = \"/content/drive/MyDrive/footwear-ai-app/\"\n",
        "if not os.path.exists(folder_path):\n",
        "    os.makedirs(folder_path)\n"
      ],
      "metadata": {
        "id": "HLLfWzuD0ZHm"
      },
      "execution_count": null,
      "outputs": []
    },
    {
      "cell_type": "code",
      "source": [
        "# Write the app code to a file in the folder\n",
        "app_code = \"\"\"\n",
        "import streamlit as st\n",
        "\n",
        "def main():\n",
        "    st.title(\"Footwear Similarity Model\")\n",
        "    st.write(\"Welcome to the AI Footwear Identifier App!\")\n",
        "    # Add more Streamlit widgets or logic here\n",
        "\n",
        "if __name__ == \"__main__\":\n",
        "    main()\n",
        "\"\"\"\n",
        "\n",
        "# Save the app code as app.py\n",
        "with open(os.path.join(folder_path, \"app.py\"), \"w\") as f:\n",
        "    f.write(app_code)\n"
      ],
      "metadata": {
        "id": "BxFuYC_H0bSu"
      },
      "execution_count": null,
      "outputs": []
    },
    {
      "cell_type": "code",
      "source": [
        "# Check if the file exists\n",
        "os.path.exists(os.path.join(folder_path, \"app.py\"))\n"
      ],
      "metadata": {
        "colab": {
          "base_uri": "https://localhost:8080/"
        },
        "id": "znergwXg0eAL",
        "outputId": "b6f1267f-a8ee-435e-f176-26fc9896a3aa"
      },
      "execution_count": null,
      "outputs": [
        {
          "output_type": "execute_result",
          "data": {
            "text/plain": [
              "True"
            ]
          },
          "metadata": {},
          "execution_count": 96
        }
      ]
    }
  ]
}